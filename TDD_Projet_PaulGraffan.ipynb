{
 "cells": [
  {
   "cell_type": "markdown",
   "metadata": {},
   "source": [
    "# Projet: Traitement des données distribuées\n",
    "## Paul Graffan"
   ]
  },
  {
   "cell_type": "markdown",
   "metadata": {},
   "source": [
    "# Subject description\n",
    "For this project I decided to use pyspark in order to analyse graph data. I have chosen the **High-energy physics theory citation network** dataset available at: https://snap.stanford.edu/data/cit-HepTh.html.\n",
    "\n",
    "This dataset represent a graph of citations between scientific 27770 papers. A bigger dataset of this type is also available but since I work in local I decided to use the smaller one.\n",
    "\n",
    "In this project I will use pyspark and GraphFrames to manipulate data. First, we will manipulate data from the file of citations and the files of metadatas in order to create a dataframe from ou graph. This will allow us to obtain a ranking of papers according to the number of citations received. Then, I will apply  PageRank algorithm to have another ranking of papers and compare both rankings. Further on, I will cluster papers using Label Propagation Algorithm and try to described the obtained clusters. Finally, I propose a visualization of the graph of papers.\n",
    "\n",
    "I chose to work with graph structured data because it is well suited for distributed application. Indeed, with social network and the web graph can be incredibly large in size. This project was the opportunity to learn how to work with them and apply unsipervised algorithm to extract informations from it."
   ]
  },
  {
   "cell_type": "code",
   "execution_count": 1,
   "metadata": {},
   "outputs": [],
   "source": [
    "import os\n",
    "\n",
    "import pandas as pd\n",
    "import seaborn as sns\n",
    "import matplotlib.pyplot as plt\n",
    "\n",
    "import pyspark\n",
    "from pyspark.sql import SparkSession\n",
    "import pyspark.sql.functions as F\n",
    "from pyspark.sql.types import *"
   ]
  },
  {
   "cell_type": "code",
   "execution_count": 2,
   "metadata": {},
   "outputs": [],
   "source": [
    "sns.set()"
   ]
  },
  {
   "cell_type": "code",
   "execution_count": 3,
   "metadata": {},
   "outputs": [],
   "source": [
    "conf = pyspark.SparkConf().setAll([('spark.executor.memory', '4g'), ('spark.executor.cores', '2'), ('spark.cores.max', '2'), ('spark.driver.memory','4g')])\n",
    "sc = pyspark.SparkContext(conf=conf)"
   ]
  },
  {
   "cell_type": "code",
   "execution_count": 4,
   "metadata": {},
   "outputs": [
    {
     "data": {
      "text/html": [
       "\n",
       "        <div>\n",
       "            <p><b>SparkContext</b></p>\n",
       "\n",
       "            <p><a href=\"http://192.168.1.92:4040\">Spark UI</a></p>\n",
       "\n",
       "            <dl>\n",
       "              <dt>Version</dt>\n",
       "                <dd><code>v3.0.0-preview2</code></dd>\n",
       "              <dt>Master</dt>\n",
       "                <dd><code>local[*]</code></dd>\n",
       "              <dt>AppName</dt>\n",
       "                <dd><code>pyspark-shell</code></dd>\n",
       "            </dl>\n",
       "        </div>\n",
       "        "
      ],
      "text/plain": [
       "<SparkContext master=local[*] appName=pyspark-shell>"
      ]
     },
     "execution_count": 4,
     "metadata": {},
     "output_type": "execute_result"
    }
   ],
   "source": [
    "sc"
   ]
  },
  {
   "cell_type": "markdown",
   "metadata": {},
   "source": [
    "# Create dataframe of citations"
   ]
  },
  {
   "cell_type": "markdown",
   "metadata": {},
   "source": [
    "The file 'cit-HepTh.txt' contains the edges of citations structured as follow: <br>\n",
    "- Id_paper_from, Id_paper_to"
   ]
  },
  {
   "cell_type": "code",
   "execution_count": 5,
   "metadata": {},
   "outputs": [],
   "source": [
    "spark = SparkSession(sc)"
   ]
  },
  {
   "cell_type": "code",
   "execution_count": 179,
   "metadata": {},
   "outputs": [],
   "source": [
    "lines = sc.textFile('data/cit-HepTh.txt')"
   ]
  },
  {
   "cell_type": "code",
   "execution_count": 7,
   "metadata": {},
   "outputs": [
    {
     "data": {
      "text/plain": [
       "['1001\\t9304045']"
      ]
     },
     "execution_count": 7,
     "metadata": {},
     "output_type": "execute_result"
    }
   ],
   "source": [
    "lines.take(1)"
   ]
  },
  {
   "cell_type": "code",
   "execution_count": 8,
   "metadata": {},
   "outputs": [
    {
     "data": {
      "text/plain": [
       "2"
      ]
     },
     "execution_count": 8,
     "metadata": {},
     "output_type": "execute_result"
    }
   ],
   "source": [
    "lines.getNumPartitions()"
   ]
  },
  {
   "cell_type": "markdown",
   "metadata": {},
   "source": [
    "## Structure as follow: (id_paper, [citations_given], nb_citations_given)\n",
    "\n"
   ]
  },
  {
   "cell_type": "code",
   "execution_count": 9,
   "metadata": {},
   "outputs": [],
   "source": [
    "citations_given_by_paper = lines.map(lambda x: (x.split('\\t')[0], [x.split('\\t')[1]]))\\\n",
    "                                .reduceByKey(lambda a,b: a+b)"
   ]
  },
  {
   "cell_type": "code",
   "execution_count": 11,
   "metadata": {
    "scrolled": true
   },
   "outputs": [
    {
     "data": {
      "text/plain": [
       "[('9311042', ['9301042', '9301043'])]"
      ]
     },
     "execution_count": 11,
     "metadata": {},
     "output_type": "execute_result"
    }
   ],
   "source": [
    "citations_given_by_paper.take(1)"
   ]
  },
  {
   "cell_type": "code",
   "execution_count": 12,
   "metadata": {},
   "outputs": [
    {
     "data": {
      "text/plain": [
       "25059"
      ]
     },
     "execution_count": 12,
     "metadata": {},
     "output_type": "execute_result"
    }
   ],
   "source": [
    "citations_given_by_paper.count()"
   ]
  },
  {
   "cell_type": "markdown",
   "metadata": {},
   "source": [
    "As dataframe"
   ]
  },
  {
   "cell_type": "code",
   "execution_count": 13,
   "metadata": {},
   "outputs": [],
   "source": [
    "citations_given_by_paper = citations_given_by_paper.map(lambda x: (x[0], x[1], len(x[1]))).toDF(['id', 'cit_given', 'nb_cit_given'])"
   ]
  },
  {
   "cell_type": "code",
   "execution_count": 13,
   "metadata": {},
   "outputs": [
    {
     "name": "stdout",
     "output_type": "stream",
     "text": [
      "+-------+--------------------+------------+\n",
      "|     id|           cit_given|nb_cit_given|\n",
      "+-------+--------------------+------------+\n",
      "|9311042|  [9301042, 9301043]|           2|\n",
      "|9401139|[9201015, 9201040...|          40|\n",
      "+-------+--------------------+------------+\n",
      "only showing top 2 rows\n",
      "\n"
     ]
    }
   ],
   "source": [
    "citations_given_by_paper.show(2)"
   ]
  },
  {
   "cell_type": "markdown",
   "metadata": {},
   "source": [
    "## Structure as follow:  (id_paper, [citations_received], nb_citations_received)"
   ]
  },
  {
   "cell_type": "code",
   "execution_count": 14,
   "metadata": {},
   "outputs": [],
   "source": [
    "citations_received_by_paper =  lines.map(lambda x: (x.split('\\t')[1], [x.split('\\t')[0]]))\\\n",
    "                                .reduceByKey(lambda a,b: a+b)"
   ]
  },
  {
   "cell_type": "code",
   "execution_count": 16,
   "metadata": {
    "scrolled": true
   },
   "outputs": [
    {
     "data": {
      "text/plain": [
       "[('9311042',\n",
       "  ['1001',\n",
       "   '9510234',\n",
       "   '9511171',\n",
       "   '9601108',\n",
       "   '9602114',\n",
       "   '9702155',\n",
       "   '9905036',\n",
       "   '1025',\n",
       "   '9507012',\n",
       "   '9807087',\n",
       "   '9906200',\n",
       "   '9706110',\n",
       "   '9705131',\n",
       "   '9906242',\n",
       "   '9903166',\n",
       "   '9608024',\n",
       "   '9704151',\n",
       "   '9711124',\n",
       "   '9610162',\n",
       "   '2004',\n",
       "   '9409110',\n",
       "   '9906046',\n",
       "   '9712223',\n",
       "   '9610251',\n",
       "   '9412236',\n",
       "   '9711090',\n",
       "   '9604043',\n",
       "   '3263',\n",
       "   '9801022',\n",
       "   '9608039',\n",
       "   '9411131',\n",
       "   '9601014',\n",
       "   '9412115',\n",
       "   '9808192',\n",
       "   '7243',\n",
       "   '9042',\n",
       "   '9072',\n",
       "   '11059',\n",
       "   '11101',\n",
       "   '9605154',\n",
       "   '12041',\n",
       "   '102133',\n",
       "   '102198',\n",
       "   '104254',\n",
       "   '107217',\n",
       "   '108229',\n",
       "   '109164',\n",
       "   '111113',\n",
       "   '203111',\n",
       "   '209161',\n",
       "   '209230',\n",
       "   '210231',\n",
       "   '9608104',\n",
       "   '9601179',\n",
       "   '9612075'])]"
      ]
     },
     "execution_count": 16,
     "metadata": {},
     "output_type": "execute_result"
    }
   ],
   "source": [
    "citations_received_by_paper.take(1)"
   ]
  },
  {
   "cell_type": "code",
   "execution_count": 17,
   "metadata": {},
   "outputs": [
    {
     "data": {
      "text/plain": [
       "23180"
      ]
     },
     "execution_count": 17,
     "metadata": {},
     "output_type": "execute_result"
    }
   ],
   "source": [
    "citations_received_by_paper.count()"
   ]
  },
  {
   "cell_type": "markdown",
   "metadata": {},
   "source": [
    "As dataFrame"
   ]
  },
  {
   "cell_type": "code",
   "execution_count": 15,
   "metadata": {},
   "outputs": [],
   "source": [
    "citations_received_by_paper = citations_received_by_paper.map(lambda x: (x[0], x[1], len(x[1]))).toDF(['id', 'cit_received', 'nb_cit_received'])"
   ]
  },
  {
   "cell_type": "code",
   "execution_count": 13,
   "metadata": {},
   "outputs": [
    {
     "name": "stdout",
     "output_type": "stream",
     "text": [
      "+-------+--------------------+---------------+\n",
      "|     id|        cit_received|nb_cit_received|\n",
      "+-------+--------------------+---------------+\n",
      "|9311042|[1001, 9510234, 9...|             55|\n",
      "|9401139|[1001, 9407087, 9...|            421|\n",
      "+-------+--------------------+---------------+\n",
      "only showing top 2 rows\n",
      "\n"
     ]
    }
   ],
   "source": [
    "citations_received_by_paper.show(2)"
   ]
  },
  {
   "cell_type": "code",
   "execution_count": 21,
   "metadata": {},
   "outputs": [
    {
     "data": {
      "text/plain": [
       "23180"
      ]
     },
     "execution_count": 21,
     "metadata": {},
     "output_type": "execute_result"
    }
   ],
   "source": [
    "citations_received_by_paper.count()"
   ]
  },
  {
   "cell_type": "markdown",
   "metadata": {},
   "source": [
    "### Join both rdd to get: (id_paper, [citations_given], nb_given, [citations_received], nb_received)"
   ]
  },
  {
   "cell_type": "markdown",
   "metadata": {},
   "source": [
    "We use a full join to keep papers that never gave citation or haven't been cited. Full join will keeps lines with no matching keys and fill the missing values by null."
   ]
  },
  {
   "cell_type": "code",
   "execution_count": 16,
   "metadata": {},
   "outputs": [],
   "source": [
    "df_citations = citations_given_by_paper.join(citations_received_by_paper, ['id'], how='full')"
   ]
  },
  {
   "cell_type": "code",
   "execution_count": 24,
   "metadata": {},
   "outputs": [
    {
     "name": "stdout",
     "output_type": "stream",
     "text": [
      "+------+--------------------+------------+--------------------+---------------+\n",
      "|    id|           cit_given|nb_cit_given|        cit_received|nb_cit_received|\n",
      "+------+--------------------+------------+--------------------+---------------+\n",
      "| 10096|[5092, 9207001, 9...|          14|[102116, 105286, ...|              9|\n",
      "|101021|[12162, 9406081, ...|          10|            [104033]|              1|\n",
      "+------+--------------------+------------+--------------------+---------------+\n",
      "only showing top 2 rows\n",
      "\n"
     ]
    }
   ],
   "source": [
    "df_citations.show(2)"
   ]
  },
  {
   "cell_type": "code",
   "execution_count": 25,
   "metadata": {},
   "outputs": [
    {
     "data": {
      "text/plain": [
       "27770"
      ]
     },
     "execution_count": 25,
     "metadata": {},
     "output_type": "execute_result"
    }
   ],
   "source": [
    "df_citations.count()"
   ]
  },
  {
   "cell_type": "markdown",
   "metadata": {},
   "source": [
    "We find the total number of papers given on with the informations of the dataset."
   ]
  },
  {
   "cell_type": "markdown",
   "metadata": {},
   "source": [
    "## Join metadata "
   ]
  },
  {
   "cell_type": "markdown",
   "metadata": {},
   "source": [
    "### Title and Abstract\n",
    "\n",
    "In this part we will extract the title, abstract and year of publication of the papers using the metadata file.\n",
    "<br><br>\n",
    "The metadata is organized as follow: there is one root directory containing sub-directories corresponding at each year from 1992 to 2003. Each sub-directory contains one txt file per paper written that year.\n",
    "<br><br>\n",
    "In order to extract the wanted informations, the function extract_paperidAndTitle will populate a 2D array with each line containing the informations of 1 paper."
   ]
  },
  {
   "cell_type": "code",
   "execution_count": 17,
   "metadata": {},
   "outputs": [],
   "source": [
    "def extract_paperidAndTitle(rootdir):\n",
    "    res = []\n",
    "    for subdir, dirs, files in os.walk(rootdir):\n",
    "        for file in files:\n",
    "            f = open(os.path.join(subdir, file),'r')\n",
    "            text = ''\n",
    "            for line in f.readlines():\n",
    "                text += line\n",
    "            \n",
    "            intermediate_res = []\n",
    "            for t in text.replace('\\n', '--').split('\\\\\\\\')[1].split('--'):\n",
    "                if t.startswith('Paper:'):\n",
    "                    intermediate_res.append(t.replace(',', '').split('/')[-1])\n",
    "                if t.startswith('Title:'):\n",
    "                    intermediate_res.append(t.replace('Title: ', ''))\n",
    "            intermediate_res.append(text.replace('\\n', ' ').replace(',', '').split('\\\\\\\\')[2])\n",
    "            intermediate_res.append(subdir.split('/')[-1])\n",
    "            res.append(intermediate_res)\n",
    "    return res"
   ]
  },
  {
   "cell_type": "code",
   "execution_count": 18,
   "metadata": {},
   "outputs": [],
   "source": [
    "infos = extract_paperidAndTitle('cit-HepTh-abstracts')"
   ]
  },
  {
   "cell_type": "code",
   "execution_count": 28,
   "metadata": {},
   "outputs": [
    {
     "data": {
      "text/plain": [
       "29555"
      ]
     },
     "execution_count": 28,
     "metadata": {},
     "output_type": "execute_result"
    }
   ],
   "source": [
    "len(infos)"
   ]
  },
  {
   "cell_type": "code",
   "execution_count": 29,
   "metadata": {},
   "outputs": [
    {
     "data": {
      "text/plain": [
       "['9210088',\n",
       " 'A Conformal Affine Toda Model of 2D Black Holes: A Quantum Study of the',\n",
       " '   In this paper we reformulate the dilaton-gravity theory of Callan \\\\etal\\\\ as a new effective conformal field theory which turns out to be a generalization of the so-called $SL_2$-conformal affine Toda (CAT) theory studied some times ago by Babelon and Bonora. We quantize this model thus keeping in account the dilaton-gravity quantum effects. We then implement a Renormalization Group analysis to study the black hole thermodynamics and the final state of the Hawking evaporation. ',\n",
       " '1992']"
      ]
     },
     "execution_count": 29,
     "metadata": {},
     "output_type": "execute_result"
    }
   ],
   "source": [
    "infos[4]"
   ]
  },
  {
   "cell_type": "code",
   "execution_count": 19,
   "metadata": {},
   "outputs": [],
   "source": [
    "df_metadata = sc.parallelize(infos).map(lambda x: [x[0], x[1], x[2], x[3]]).toDF(['id', 'title', 'abstract', 'year'])"
   ]
  },
  {
   "cell_type": "code",
   "execution_count": 20,
   "metadata": {},
   "outputs": [],
   "source": [
    "del infos"
   ]
  },
  {
   "cell_type": "code",
   "execution_count": 24,
   "metadata": {},
   "outputs": [
    {
     "name": "stdout",
     "output_type": "stream",
     "text": [
      "+-------+--------------------+--------------------+----+\n",
      "|     id|               title|            abstract|year|\n",
      "+-------+--------------------+--------------------+----+\n",
      "|9204042|Asymptotic Behavi...|   We consider th...|1992|\n",
      "|9204020|Symplectic fusion...|   The fusion of ...|1992|\n",
      "|9211110|Low-Energy Effect...|   A fundamental ...|1992|\n",
      "+-------+--------------------+--------------------+----+\n",
      "only showing top 3 rows\n",
      "\n"
     ]
    }
   ],
   "source": [
    "df_metadata.show(3)"
   ]
  },
  {
   "cell_type": "code",
   "execution_count": 25,
   "metadata": {},
   "outputs": [
    {
     "data": {
      "text/plain": [
       "29555"
      ]
     },
     "execution_count": 25,
     "metadata": {},
     "output_type": "execute_result"
    }
   ],
   "source": [
    "df_metadata.count()"
   ]
  },
  {
   "cell_type": "markdown",
   "metadata": {},
   "source": [
    "### Date of publication\n",
    "\n",
    "We will now retreive the date of publication of each article contained in 'cit-HepTh-dates.txt'.<br>\n",
    "<br>\n",
    "<span style=\"color:red\">Note that crosslisted paper have an id starting with 11. We will ignore lines with such ids. Also, in the file of dates, all id have 7 digits. This means that ids with less that 7 digits in the graph file have been filled with 0s. We will need to correct that in order for ids to match. The latter statement is true for metadata as well. </span>"
   ]
  },
  {
   "cell_type": "code",
   "execution_count": 21,
   "metadata": {},
   "outputs": [],
   "source": [
    "dates = sc.textFile('data/cit-HepTh-dates.txt')"
   ]
  },
  {
   "cell_type": "code",
   "execution_count": 22,
   "metadata": {},
   "outputs": [],
   "source": [
    "dates = dates.map(lambda x: (x.split('\\t')[0], x.split('\\t')[1]))"
   ]
  },
  {
   "cell_type": "code",
   "execution_count": 23,
   "metadata": {},
   "outputs": [],
   "source": [
    "df_dates = dates.toDF(['id', 'date'])"
   ]
  },
  {
   "cell_type": "code",
   "execution_count": 29,
   "metadata": {},
   "outputs": [
    {
     "name": "stdout",
     "output_type": "stream",
     "text": [
      "+-------+----------+\n",
      "|     id|      date|\n",
      "+-------+----------+\n",
      "|9203201|1992-02-24|\n",
      "|9203202|1992-03-08|\n",
      "|9203203|1992-03-03|\n",
      "+-------+----------+\n",
      "only showing top 3 rows\n",
      "\n"
     ]
    }
   ],
   "source": [
    "df_dates.show(3)"
   ]
  },
  {
   "cell_type": "code",
   "execution_count": 44,
   "metadata": {},
   "outputs": [
    {
     "name": "stdout",
     "output_type": "stream",
     "text": [
      "38557\n",
      "2\n"
     ]
    }
   ],
   "source": [
    "print(df_dates.count())\n",
    "print(df_dates.rdd.getNumPartitions())"
   ]
  },
  {
   "cell_type": "markdown",
   "metadata": {},
   "source": [
    "We can see that their is more lines that in the total number of papers"
   ]
  },
  {
   "cell_type": "markdown",
   "metadata": {},
   "source": [
    "Putting date to date format"
   ]
  },
  {
   "cell_type": "code",
   "execution_count": 24,
   "metadata": {},
   "outputs": [],
   "source": [
    "df_dates = df_dates.withColumn('date',F.to_date(\"date\", \"yyyy-MM-dd\"))"
   ]
  },
  {
   "cell_type": "code",
   "execution_count": 31,
   "metadata": {},
   "outputs": [
    {
     "name": "stdout",
     "output_type": "stream",
     "text": [
      "+-------+----------+\n",
      "|     id|      date|\n",
      "+-------+----------+\n",
      "|9203201|1992-02-24|\n",
      "|9203202|1992-03-08|\n",
      "|9203203|1992-03-03|\n",
      "+-------+----------+\n",
      "only showing top 3 rows\n",
      "\n"
     ]
    }
   ],
   "source": [
    "df_dates.show(3)"
   ]
  },
  {
   "cell_type": "code",
   "execution_count": 25,
   "metadata": {},
   "outputs": [],
   "source": [
    "from pyspark.sql.window import Window"
   ]
  },
  {
   "cell_type": "markdown",
   "metadata": {},
   "source": [
    "We group by id and order by dates, then we only pick the first line of each group. The idea is to check if there is multiple lines with the same ids."
   ]
  },
  {
   "cell_type": "code",
   "execution_count": 33,
   "metadata": {},
   "outputs": [],
   "source": [
    "window = Window.partitionBy(df_dates['id']).orderBy(df_dates['date'].desc())"
   ]
  },
  {
   "cell_type": "code",
   "execution_count": 34,
   "metadata": {},
   "outputs": [
    {
     "data": {
      "text/plain": [
       "37674"
      ]
     },
     "execution_count": 34,
     "metadata": {},
     "output_type": "execute_result"
    }
   ],
   "source": [
    "df_dates.select('*', F.rank().over(window).alias('rank')).filter(F.col('rank') <= 1).count() "
   ]
  },
  {
   "cell_type": "markdown",
   "metadata": {},
   "source": [
    "It seems that some lines have the same id with different dates but there is still more lines than the total number of papers."
   ]
  },
  {
   "cell_type": "code",
   "execution_count": 50,
   "metadata": {},
   "outputs": [
    {
     "data": {
      "text/plain": [
       "37621"
      ]
     },
     "execution_count": 50,
     "metadata": {},
     "output_type": "execute_result"
    }
   ],
   "source": [
    "df_dates.rdd.map(lambda x:(x[0],1)).reduceByKey(lambda x,y: 1).count()"
   ]
  },
  {
   "cell_type": "markdown",
   "metadata": {},
   "source": [
    "Since it appears that there is more papers in the date file than it the graph file, we will use a left join on df_citations to only keep lines originaly in df_citations. "
   ]
  },
  {
   "cell_type": "code",
   "execution_count": 25,
   "metadata": {},
   "outputs": [],
   "source": [
    "df_dates = df_dates.dropDuplicates(['id'])"
   ]
  },
  {
   "cell_type": "markdown",
   "metadata": {},
   "source": [
    "### Joining it all together"
   ]
  },
  {
   "cell_type": "markdown",
   "metadata": {},
   "source": [
    "#### Using User defined function UDF\n",
    "\n",
    "To put ids to the same format we will use a UDF."
   ]
  },
  {
   "cell_type": "code",
   "execution_count": 26,
   "metadata": {},
   "outputs": [],
   "source": [
    "def format_id(_id):\n",
    "    if len(_id) < 7:\n",
    "        return '0'*(7-len(_id)) + _id\n",
    "    else:\n",
    "        return _id\n",
    "    \n",
    "#Ex : UDF_format_id('5027') = '0005027'"
   ]
  },
  {
   "cell_type": "code",
   "execution_count": 27,
   "metadata": {},
   "outputs": [],
   "source": [
    "format_id_udf = F.udf(format_id, StringType())"
   ]
  },
  {
   "cell_type": "code",
   "execution_count": 28,
   "metadata": {},
   "outputs": [],
   "source": [
    "df_citations_2 = df_citations"
   ]
  },
  {
   "cell_type": "code",
   "execution_count": 29,
   "metadata": {},
   "outputs": [],
   "source": [
    "df_citations_2 = df_citations_2.withColumn(\"id\", format_id_udf(df_citations_2[\"id\"]))"
   ]
  },
  {
   "cell_type": "markdown",
   "metadata": {},
   "source": [
    "#### Performing join"
   ]
  },
  {
   "cell_type": "code",
   "execution_count": 30,
   "metadata": {},
   "outputs": [],
   "source": [
    "df_citations_2 = df_citations_2.join(df_metadata, ['id'], how='left')"
   ]
  },
  {
   "cell_type": "code",
   "execution_count": 32,
   "metadata": {},
   "outputs": [
    {
     "data": {
      "text/plain": [
       "27770"
      ]
     },
     "execution_count": 32,
     "metadata": {},
     "output_type": "execute_result"
    }
   ],
   "source": [
    "df_citations_2.where(F.col('Title').isNotNull()).count()"
   ]
  },
  {
   "cell_type": "code",
   "execution_count": 31,
   "metadata": {},
   "outputs": [],
   "source": [
    "df_citations_2 = df_citations_2.join(df_dates, ['id'], how='left')"
   ]
  },
  {
   "cell_type": "code",
   "execution_count": 43,
   "metadata": {},
   "outputs": [
    {
     "name": "stdout",
     "output_type": "stream",
     "text": [
      "+-------+--------------------+------------+------------+---------------+--------------------+--------------------+----+----------+\n",
      "|     id|           cit_given|nb_cit_given|cit_received|nb_cit_received|               title|            abstract|year|      date|\n",
      "+-------+--------------------+------------+------------+---------------+--------------------+--------------------+----+----------+\n",
      "|0001147|           [9411102]|           1|        null|           null|U(1) Connection, ...|   By analysing t...|2000|2000-01-17|\n",
      "|0002249|[2106, 2172, 9711...|          13|        null|           null|AdS/CFT Correspon...|   We review some...|2000|2000-02-24|\n",
      "+-------+--------------------+------------+------------+---------------+--------------------+--------------------+----+----------+\n",
      "only showing top 2 rows\n",
      "\n"
     ]
    }
   ],
   "source": [
    "df_citations_2.show(2)"
   ]
  },
  {
   "cell_type": "code",
   "execution_count": 44,
   "metadata": {},
   "outputs": [
    {
     "data": {
      "text/plain": [
       "8326"
      ]
     },
     "execution_count": 44,
     "metadata": {},
     "output_type": "execute_result"
    }
   ],
   "source": [
    "df_citations_2.where(F.col('date').isNotNull()).count()"
   ]
  },
  {
   "cell_type": "code",
   "execution_count": 45,
   "metadata": {},
   "outputs": [
    {
     "data": {
      "text/plain": [
       "27770"
      ]
     },
     "execution_count": 45,
     "metadata": {},
     "output_type": "execute_result"
    }
   ],
   "source": [
    "df_citations_2.count()"
   ]
  },
  {
   "cell_type": "code",
   "execution_count": 35,
   "metadata": {},
   "outputs": [
    {
     "data": {
      "text/plain": [
       "200"
      ]
     },
     "execution_count": 35,
     "metadata": {},
     "output_type": "execute_result"
    }
   ],
   "source": [
    "df_citations_2.rdd.getNumPartitions()"
   ]
  },
  {
   "cell_type": "code",
   "execution_count": 37,
   "metadata": {},
   "outputs": [
    {
     "data": {
      "text/plain": [
       "2"
      ]
     },
     "execution_count": 37,
     "metadata": {},
     "output_type": "execute_result"
    }
   ],
   "source": [
    "df_citations_2.rdd.getNumPartitions()"
   ]
  },
  {
   "cell_type": "markdown",
   "metadata": {},
   "source": [
    "Fixing the id solved all problems of matching for the metadata but not for the dates. Since we don't have all exact publishing dates, we might only refer to the year of publication obtained with metadata."
   ]
  },
  {
   "cell_type": "markdown",
   "metadata": {},
   "source": [
    "### Filling null values"
   ]
  },
  {
   "cell_type": "code",
   "execution_count": 32,
   "metadata": {},
   "outputs": [],
   "source": [
    "df_citations_2 = df_citations_2.na.fill({'nb_cit_given':'0', 'nb_cit_received':'0'})"
   ]
  },
  {
   "cell_type": "markdown",
   "metadata": {},
   "source": [
    "# Exploratory Data Analysis"
   ]
  },
  {
   "cell_type": "markdown",
   "metadata": {},
   "source": [
    "## Most cited papers\n",
    "\n",
    "We will first analyse the top 10 most cited scientific papers."
   ]
  },
  {
   "cell_type": "code",
   "execution_count": 39,
   "metadata": {},
   "outputs": [],
   "source": [
    "top_10_papers = df_citations_2.sort(F.col(\"nb_cit_received\").desc()).limit(10).toPandas()"
   ]
  },
  {
   "cell_type": "code",
   "execution_count": 40,
   "metadata": {},
   "outputs": [
    {
     "data": {
      "text/html": [
       "<div>\n",
       "<style scoped>\n",
       "    .dataframe tbody tr th:only-of-type {\n",
       "        vertical-align: middle;\n",
       "    }\n",
       "\n",
       "    .dataframe tbody tr th {\n",
       "        vertical-align: top;\n",
       "    }\n",
       "\n",
       "    .dataframe thead th {\n",
       "        text-align: right;\n",
       "    }\n",
       "</style>\n",
       "<table border=\"1\" class=\"dataframe\">\n",
       "  <thead>\n",
       "    <tr style=\"text-align: right;\">\n",
       "      <th></th>\n",
       "      <th>id</th>\n",
       "      <th>cit_given</th>\n",
       "      <th>nb_cit_given</th>\n",
       "      <th>cit_received</th>\n",
       "      <th>nb_cit_received</th>\n",
       "      <th>title</th>\n",
       "      <th>abstract</th>\n",
       "      <th>year</th>\n",
       "      <th>date</th>\n",
       "    </tr>\n",
       "  </thead>\n",
       "  <tbody>\n",
       "    <tr>\n",
       "      <th>0</th>\n",
       "      <td>9711200</td>\n",
       "      <td>[9204099, 9209116, 9307049, 9508072, 9510134, ...</td>\n",
       "      <td>54</td>\n",
       "      <td>[9908144, 9809015, 9810063, 9812035, 9902125, ...</td>\n",
       "      <td>2414</td>\n",
       "      <td>The Large N Limit of Superconformal Field Theo...</td>\n",
       "      <td>We show that the large $N$ limit of certain...</td>\n",
       "      <td>1997</td>\n",
       "      <td>None</td>\n",
       "    </tr>\n",
       "    <tr>\n",
       "      <th>1</th>\n",
       "      <td>9802150</td>\n",
       "      <td>[9308075, 9409089, 9410073, 9602135, 9610043, ...</td>\n",
       "      <td>22</td>\n",
       "      <td>[9810063, 9812035, 9902125, 9902155, 9904017, ...</td>\n",
       "      <td>1775</td>\n",
       "      <td>Anti De Sitter Space And Holography</td>\n",
       "      <td>Recently it has been proposed by Maldacena ...</td>\n",
       "      <td>1998</td>\n",
       "      <td>None</td>\n",
       "    </tr>\n",
       "    <tr>\n",
       "      <th>2</th>\n",
       "      <td>9802109</td>\n",
       "      <td>[9510017, 9510135, 9602135, 9605009, 9702076, ...</td>\n",
       "      <td>12</td>\n",
       "      <td>[9810063, 9812035, 9902125, 9902155, 9904017, ...</td>\n",
       "      <td>1641</td>\n",
       "      <td>Gauge Theory Correlators from Non-Critical Str...</td>\n",
       "      <td>We suggest a means of obtaining certain Gre...</td>\n",
       "      <td>1998</td>\n",
       "      <td>None</td>\n",
       "    </tr>\n",
       "    <tr>\n",
       "      <th>3</th>\n",
       "      <td>9407087</td>\n",
       "      <td>[9204102, 9211097, 9401139, 9402002, 9402005, ...</td>\n",
       "      <td>9</td>\n",
       "      <td>[1001, 9408099, 9501030, 9503124, 9504090, 950...</td>\n",
       "      <td>1299</td>\n",
       "      <td>Monopole Condensation, And Confinement In N=2 ...</td>\n",
       "      <td>We study the vacuum structure and dyon spec...</td>\n",
       "      <td>1994</td>\n",
       "      <td>None</td>\n",
       "    </tr>\n",
       "    <tr>\n",
       "      <th>4</th>\n",
       "      <td>9610043</td>\n",
       "      <td>[9308139, 9405069, 9409089, 9410167, 9501068, ...</td>\n",
       "      <td>19</td>\n",
       "      <td>[9707014, 9707042, 1011, 9612115, 9703038, 970...</td>\n",
       "      <td>1199</td>\n",
       "      <td>M Theory As A Matrix Model: A Conjecture</td>\n",
       "      <td>We suggest and motivate a precise equivalen...</td>\n",
       "      <td>1996</td>\n",
       "      <td>None</td>\n",
       "    </tr>\n",
       "    <tr>\n",
       "      <th>5</th>\n",
       "      <td>9510017</td>\n",
       "      <td>[208020, 9403040, 9407031, 9410167, 9503124, 9...</td>\n",
       "      <td>10</td>\n",
       "      <td>[9511030, 9602022, 9603167, 9605184, 9609239, ...</td>\n",
       "      <td>1155</td>\n",
       "      <td>Dirichlet-Branes and Ramond-Ramond Charges</td>\n",
       "      <td>We show that Dirichlet-branes extended obje...</td>\n",
       "      <td>1995</td>\n",
       "      <td>None</td>\n",
       "    </tr>\n",
       "    <tr>\n",
       "      <th>6</th>\n",
       "      <td>9908142</td>\n",
       "      <td>[9207011, 9305139, 9309028, 9403050, 9511030, ...</td>\n",
       "      <td>75</td>\n",
       "      <td>[9909229, 1011, 9909081, 9909176, 1027, 991000...</td>\n",
       "      <td>1144</td>\n",
       "      <td>String Theory and Noncommutative Geometry</td>\n",
       "      <td>We extend earlier ideas about the appearanc...</td>\n",
       "      <td>1999</td>\n",
       "      <td>None</td>\n",
       "    </tr>\n",
       "    <tr>\n",
       "      <th>7</th>\n",
       "      <td>9503124</td>\n",
       "      <td>[9205027, 9401139, 9402002, 9406012, 9407087, ...</td>\n",
       "      <td>10</td>\n",
       "      <td>[1001, 9505025, 9505054, 9505105, 9505162, 950...</td>\n",
       "      <td>1114</td>\n",
       "      <td>String Theory Dynamics In Various Dimensions</td>\n",
       "      <td>The strong coupling dynamics of string theo...</td>\n",
       "      <td>1995</td>\n",
       "      <td>None</td>\n",
       "    </tr>\n",
       "    <tr>\n",
       "      <th>8</th>\n",
       "      <td>9906064</td>\n",
       "      <td>[9604090, 9711200, 9805157, 9809147, 9905111, ...</td>\n",
       "      <td>6</td>\n",
       "      <td>[1002, 9907209, 9908076, 9908116, 9908186, 990...</td>\n",
       "      <td>1032</td>\n",
       "      <td>An Alternative to Compactification</td>\n",
       "      <td>Conventional wisdom states that Newton's fo...</td>\n",
       "      <td>1999</td>\n",
       "      <td>None</td>\n",
       "    </tr>\n",
       "    <tr>\n",
       "      <th>9</th>\n",
       "      <td>9408099</td>\n",
       "      <td>[9204102, 9211097, 9402002, 9402005, 9402044, ...</td>\n",
       "      <td>7</td>\n",
       "      <td>[1001, 9501030, 9505105, 9505162, 9506112, 950...</td>\n",
       "      <td>1006</td>\n",
       "      <td>Monopoles, Duality and Chiral Symmetry Breakin...</td>\n",
       "      <td>We study four dimensional $N=2$ supersymmet...</td>\n",
       "      <td>1994</td>\n",
       "      <td>None</td>\n",
       "    </tr>\n",
       "  </tbody>\n",
       "</table>\n",
       "</div>"
      ],
      "text/plain": [
       "        id                                          cit_given  nb_cit_given  \\\n",
       "0  9711200  [9204099, 9209116, 9307049, 9508072, 9510134, ...            54   \n",
       "1  9802150  [9308075, 9409089, 9410073, 9602135, 9610043, ...            22   \n",
       "2  9802109  [9510017, 9510135, 9602135, 9605009, 9702076, ...            12   \n",
       "3  9407087  [9204102, 9211097, 9401139, 9402002, 9402005, ...             9   \n",
       "4  9610043  [9308139, 9405069, 9409089, 9410167, 9501068, ...            19   \n",
       "5  9510017  [208020, 9403040, 9407031, 9410167, 9503124, 9...            10   \n",
       "6  9908142  [9207011, 9305139, 9309028, 9403050, 9511030, ...            75   \n",
       "7  9503124  [9205027, 9401139, 9402002, 9406012, 9407087, ...            10   \n",
       "8  9906064  [9604090, 9711200, 9805157, 9809147, 9905111, ...             6   \n",
       "9  9408099  [9204102, 9211097, 9402002, 9402005, 9402044, ...             7   \n",
       "\n",
       "                                        cit_received  nb_cit_received  \\\n",
       "0  [9908144, 9809015, 9810063, 9812035, 9902125, ...             2414   \n",
       "1  [9810063, 9812035, 9902125, 9902155, 9904017, ...             1775   \n",
       "2  [9810063, 9812035, 9902125, 9902155, 9904017, ...             1641   \n",
       "3  [1001, 9408099, 9501030, 9503124, 9504090, 950...             1299   \n",
       "4  [9707014, 9707042, 1011, 9612115, 9703038, 970...             1199   \n",
       "5  [9511030, 9602022, 9603167, 9605184, 9609239, ...             1155   \n",
       "6  [9909229, 1011, 9909081, 9909176, 1027, 991000...             1144   \n",
       "7  [1001, 9505025, 9505054, 9505105, 9505162, 950...             1114   \n",
       "8  [1002, 9907209, 9908076, 9908116, 9908186, 990...             1032   \n",
       "9  [1001, 9501030, 9505105, 9505162, 9506112, 950...             1006   \n",
       "\n",
       "                                               title  \\\n",
       "0  The Large N Limit of Superconformal Field Theo...   \n",
       "1                Anti De Sitter Space And Holography   \n",
       "2  Gauge Theory Correlators from Non-Critical Str...   \n",
       "3  Monopole Condensation, And Confinement In N=2 ...   \n",
       "4           M Theory As A Matrix Model: A Conjecture   \n",
       "5         Dirichlet-Branes and Ramond-Ramond Charges   \n",
       "6          String Theory and Noncommutative Geometry   \n",
       "7       String Theory Dynamics In Various Dimensions   \n",
       "8                 An Alternative to Compactification   \n",
       "9  Monopoles, Duality and Chiral Symmetry Breakin...   \n",
       "\n",
       "                                            abstract  year  date  \n",
       "0     We show that the large $N$ limit of certain...  1997  None  \n",
       "1     Recently it has been proposed by Maldacena ...  1998  None  \n",
       "2     We suggest a means of obtaining certain Gre...  1998  None  \n",
       "3     We study the vacuum structure and dyon spec...  1994  None  \n",
       "4     We suggest and motivate a precise equivalen...  1996  None  \n",
       "5     We show that Dirichlet-branes extended obje...  1995  None  \n",
       "6     We extend earlier ideas about the appearanc...  1999  None  \n",
       "7     The strong coupling dynamics of string theo...  1995  None  \n",
       "8     Conventional wisdom states that Newton's fo...  1999  None  \n",
       "9     We study four dimensional $N=2$ supersymmet...  1994  None  "
      ]
     },
     "execution_count": 40,
     "metadata": {},
     "output_type": "execute_result"
    }
   ],
   "source": [
    "top_10_papers"
   ]
  },
  {
   "cell_type": "markdown",
   "metadata": {},
   "source": [
    "## Number of citations given/received per year"
   ]
  },
  {
   "cell_type": "code",
   "execution_count": 41,
   "metadata": {},
   "outputs": [],
   "source": [
    "df_citations_2 = df_citations_2.withColumn(\"nb_cit_given\", df_citations_2.nb_cit_given.cast(IntegerType()))\n",
    "df_citations_2 = df_citations_2.withColumn(\"nb_cit_received\", df_citations_2.nb_cit_received.cast(IntegerType()))"
   ]
  },
  {
   "cell_type": "code",
   "execution_count": 42,
   "metadata": {},
   "outputs": [],
   "source": [
    "year_cit_given  =  df_citations_2.groupBy('year').avg('nb_cit_given').orderBy('year').toPandas()"
   ]
  },
  {
   "cell_type": "code",
   "execution_count": 43,
   "metadata": {},
   "outputs": [],
   "source": [
    "year_cit_received = df_citations_2.groupBy('year').avg('nb_cit_received').orderBy('year').toPandas()"
   ]
  },
  {
   "cell_type": "code",
   "execution_count": 44,
   "metadata": {},
   "outputs": [
    {
     "data": {
      "image/png": "[encoded data removed]",
      "text/plain": [
       "<Figure size 720x288 with 1 Axes>"
      ]
     },
     "metadata": {},
     "output_type": "display_data"
    }
   ],
   "source": [
    "fig= plt.figure(figsize=(10,4))\n",
    "plt.plot(year_cit_given['year'], year_cit_given['avg(nb_cit_given)'])\n",
    "plt.title('Average number of citation given per year')\n",
    "plt.show()"
   ]
  },
  {
   "cell_type": "code",
   "execution_count": 53,
   "metadata": {},
   "outputs": [
    {
     "data": {
      "image/png": "[encoded data removed]",
      "text/plain": [
       "<Figure size 720x288 with 1 Axes>"
      ]
     },
     "metadata": {},
     "output_type": "display_data"
    }
   ],
   "source": [
    "fig= plt.figure(figsize=(10,4))\n",
    "plt.plot(year_cit_received['year'], year_cit_received['avg(nb_cit_received)'])\n",
    "plt.title('Average number of citation received per year')\n",
    "plt.show()"
   ]
  },
  {
   "cell_type": "markdown",
   "metadata": {},
   "source": [
    "As expected, the average number of citations received decreases with time. Naturaly, older paper have more \"time\" to be cited in future papers. This result, even though beeing intuitive is quiet interesting. Indeed, when we will apply PageRank algorithm to our networks, we will take into account that older papers are naturally higher ranked that newer one. In fact, we can see that comparing paper from after 1998 with the others would not make much sense.\n",
    "<br><br>\n",
    "Another interesting pattern on the above graph is that there is a pike of publications received between 1995 and 1997. Maybe there has been a major breakthrough in physics during those year. "
   ]
  },
  {
   "cell_type": "markdown",
   "metadata": {},
   "source": [
    "## Page Rank\n",
    "\n",
    "Ranking articles by number of citations received is interesting but it has a bias. Indeed, this way of ranking does not count the importance fo the citing papers (being cited by an obscure paper has the same importance than being cited by a gound-breaking one). In order to reduce this bias the PageRank algorithm gives higher weights to publications that are highly cited. PageRank algorithm gives another ranking that should better capture the true importance of a paper.\n",
    "<br>\n",
    "<br>\n",
    "### What is PageRank algorithm ?\n",
    "We will now dive further into the PageRank algorithm, we introduce the notation:\n",
    "\n",
    "- $p_{1}...p_{n}$: a collection of n papers\n",
    "- $PR(p)$: (PageRank) the actual page rank of a paper\n",
    "- $T^{p}_{1},...,T^{p}_{n}$: the collection of article citing paper p\n",
    "- $C(p)$: the number of paper cited by p\n",
    "- $d \\in (0,1)$: the damping factor\n",
    "\n",
    "We can now wright the formula to calculate the PageRank of paper p:\n",
    "<p style=\"text-align: center;\">\n",
    "$PR(p)=(1-d)+d(\\sum_{i=1}^{n} \\frac{PR(T^{p}_{i})}{C(T^{p}_{i})})$\n",
    "</p>\n",
    "The PageRank of a graph of documents can then be calculated iteratively using this from initialized PageRanks.<br>\n",
    "To explain a little further, $PR(PR(T^{p}_{i}))$ means that each paper has a notion of it's own importance, and $\\frac{PR(T^{p}_{i})}{C(T^{p}_{i})}$ means that each paper distributes its importance evenly between all papers it cites. The damping factor $d$ represent the probability of a random reader (called random surfer in the original paper) to read a paper cited in the paper he is currently reading, and $1-d$ represent the probability to read another paper picked randomly. In other words, if their is a closed loop of citations, a reader would not stay stuck into it. Note that different values of $d$ yields different ranking. For simplicity we will keep the original value of $d=0.85$ but PageRank as a Function of the Damping Factor is a good paper on the topic.\n",
    "<br><br>\n",
    "    "
   ]
  },
  {
   "cell_type": "markdown",
   "metadata": {},
   "source": [
    "### Implementation\n",
    "In our first implementation of page rank, we will the rdd of our graph of given citations."
   ]
  },
  {
   "cell_type": "code",
   "execution_count": 54,
   "metadata": {},
   "outputs": [],
   "source": [
    "pagerank_rdd = lines.map(lambda x: (x.split('\\t')[0], x.split('\\t')[1]))\\\n",
    "                                .groupByKey()"
   ]
  },
  {
   "cell_type": "code",
   "execution_count": 55,
   "metadata": {},
   "outputs": [
    {
     "data": {
      "text/plain": [
       "[('9311042', <pyspark.resultiterable.ResultIterable at 0x7fcbc782d5c0>)]"
      ]
     },
     "execution_count": 55,
     "metadata": {},
     "output_type": "execute_result"
    }
   ],
   "source": [
    "pagerank_rdd.take(1)"
   ]
  },
  {
   "cell_type": "markdown",
   "metadata": {},
   "source": [
    "We initialize ranks to 1"
   ]
  },
  {
   "cell_type": "code",
   "execution_count": 56,
   "metadata": {},
   "outputs": [],
   "source": [
    "ranks = pagerank_rdd.mapValues(lambda x: 1)"
   ]
  },
  {
   "cell_type": "code",
   "execution_count": 18,
   "metadata": {},
   "outputs": [
    {
     "data": {
      "text/plain": [
       "[('9311042', 1)]"
      ]
     },
     "execution_count": 18,
     "metadata": {},
     "output_type": "execute_result"
    }
   ],
   "source": [
    "ranks.take(1)"
   ]
  },
  {
   "cell_type": "markdown",
   "metadata": {},
   "source": [
    "We define compute_contribs, a funtion that computes $C(p)$ for each paper."
   ]
  },
  {
   "cell_type": "code",
   "execution_count": 57,
   "metadata": {},
   "outputs": [],
   "source": [
    "def compute_contribs(papers, rank):\n",
    "    for p in papers:\n",
    "        yield (p, rank/len(papers))"
   ]
  },
  {
   "cell_type": "code",
   "execution_count": 59,
   "metadata": {},
   "outputs": [],
   "source": [
    "for i in range(20):\n",
    "    contribs = pagerank_rdd.join(ranks).values().flatMap(lambda x: compute_contribs(x[0], x[1]))\n",
    "    ranks = contribs.reduceByKey(lambda x,y: x+y).mapValues(lambda x: 0.15+0.85*x)"
   ]
  },
  {
   "cell_type": "code",
   "execution_count": 60,
   "metadata": {},
   "outputs": [
    {
     "data": {
      "text/plain": [
       "[('9301042', 17.030329641530724),\n",
       " ('9301043', 7.3170185810930315),\n",
       " ('9201040', 5.655035088418202),\n",
       " ('9202046', 7.856900928724709),\n",
       " ('9202059', 3.659253519512172),\n",
       " ('9202092', 4.881035994501191),\n",
       " ('9203008', 1.487006212213638),\n",
       " ('9204035', 3.8681167679729516),\n",
       " ('9204040', 1.4734299196147413),\n",
       " ('9205046', 3.072105563995807)]"
      ]
     },
     "execution_count": 60,
     "metadata": {},
     "output_type": "execute_result"
    }
   ],
   "source": [
    "ranks.take(10)"
   ]
  },
  {
   "cell_type": "code",
   "execution_count": 61,
   "metadata": {},
   "outputs": [
    {
     "data": {
      "text/plain": [
       "18028"
      ]
     },
     "execution_count": 61,
     "metadata": {},
     "output_type": "execute_result"
    }
   ],
   "source": [
    "ranks.count()"
   ]
  },
  {
   "cell_type": "markdown",
   "metadata": {},
   "source": [
    "We only have 18028 ranks instead of the 27770 papers initially present in the citation graph. This is because of the way our PageRank is implemented.\n",
    "<br><br>\n",
    "Let's analyse our implementation of PageRank:\n",
    "\n",
    "- Step 1: we generate pagerank_rdd with each row organised as follow, [$p$, [papers_cited_by_p]]\n",
    "- Step 2: we create ranks such that for each paper p we have the initalisation, [($p$, 1)]\n",
    "- Step 3: In the for loop, we first compute the contribution of p to each of its citations and we flattened the results, thus we obtained contribs = [id_paper_cited, $\\frac{rank_{p}}{nb\\_paper\\_cited_{p}}$]\n",
    "- Step 4: We reduce by  key and multiply by $d$ and add $(1-d)$ to get the rank of all papers for the iteration\n",
    "\n",
    "The problem arise when a paper is never cited. Indeed, one can observe that in Step3, this paper will not be present in the **contribs** RDD and therefore it will be absent in Step4 as well. The disappearance of paper at iteration i can cause the disappearance of another paper at iteration i+1 because it is no longer cited and so on. One way to avoid this situation could be to use an adjency matrix instead of our mechanism of flatMap and reduce by key."
   ]
  },
  {
   "cell_type": "markdown",
   "metadata": {},
   "source": [
    "## Introduction to GraphFrames"
   ]
  },
  {
   "cell_type": "markdown",
   "metadata": {},
   "source": [
    "GraphFrames is a package for spark dataframe to represent graph data. It is usefull because it comes with many graph exploratory algorithms specially conceived for spark."
   ]
  },
  {
   "cell_type": "markdown",
   "metadata": {},
   "source": [
    "### Installation Guide Lines (Linux)"
   ]
  },
  {
   "cell_type": "markdown",
   "metadata": {},
   "source": [
    "Since the installation of graphframes is not trivial we will explained here how to proceed:\n",
    "- go to https://spark-packages.org/package/graphframes/graphframes and download the jar file corresponding to your version of spark\n",
    "- place the jar file in the jars directory of the spark-hadoop install (ex: /home/usr/Documents/spark-hadoop/spark-3.0.0-preview2-bin-hadoop2.7/jars)\n",
    "- in the .bashrc file add the following variable: <span style=\"color:blue\">export SPARK_OPTS=\"--packages graphframes:graphframes:0.8.0-spark3.0-s_2.12\"</span>  (put the informations of your version of graphframes)\n",
    "- run: source .bashrc\n",
    "\n",
    "We can now use addPyFile() which will add the corresponding dependencies for all tasks to be executed on this SparkContext in the future."
   ]
  },
  {
   "cell_type": "code",
   "execution_count": 33,
   "metadata": {},
   "outputs": [],
   "source": [
    "sc.addPyFile('/home/steve/Documents/ENSAE/TDD/spark-hadoop/spark-3.0.0-preview2-bin-hadoop2.7/jars/graphframes-0.8.0-spark3.0-s_2.12.jar')"
   ]
  },
  {
   "cell_type": "markdown",
   "metadata": {},
   "source": [
    "We can now import graphframes"
   ]
  },
  {
   "cell_type": "code",
   "execution_count": 34,
   "metadata": {},
   "outputs": [],
   "source": [
    "from graphframes import *"
   ]
  },
  {
   "cell_type": "markdown",
   "metadata": {},
   "source": [
    "### Back to PageRank"
   ]
  },
  {
   "cell_type": "markdown",
   "metadata": {},
   "source": [
    "#### Creating the graph\n",
    "\n",
    "To create a graph in graphframes we need to provide a dataframe of Vertices and a dataframe of Edges."
   ]
  },
  {
   "cell_type": "code",
   "execution_count": 35,
   "metadata": {},
   "outputs": [],
   "source": [
    "vertices = df_citations_2.select(['id', 'title'])"
   ]
  },
  {
   "cell_type": "code",
   "execution_count": 36,
   "metadata": {},
   "outputs": [],
   "source": [
    "edges = lines.map(lambda x: (format_id(x.split('\\t')[0]), format_id(x.split('\\t')[1]), 'cite'))\n",
    "edges = edges.toDF(['src', 'dst', 'type'])"
   ]
  },
  {
   "cell_type": "markdown",
   "metadata": {},
   "source": [
    "Create graphframe"
   ]
  },
  {
   "cell_type": "code",
   "execution_count": 37,
   "metadata": {},
   "outputs": [],
   "source": [
    "g = GraphFrame(vertices, edges)"
   ]
  },
  {
   "cell_type": "code",
   "execution_count": 38,
   "metadata": {},
   "outputs": [
    {
     "name": "stdout",
     "output_type": "stream",
     "text": [
      "+-------+-------+----+\n",
      "|    src|    dst|type|\n",
      "+-------+-------+----+\n",
      "|0001001|9304045|cite|\n",
      "|0001001|9308122|cite|\n",
      "+-------+-------+----+\n",
      "only showing top 2 rows\n",
      "\n"
     ]
    }
   ],
   "source": [
    "g.edges.show(2)"
   ]
  },
  {
   "cell_type": "markdown",
   "metadata": {},
   "source": [
    "Apply PageRank algorithm. Note that this implementation of PageRank uses a tolerance rather than a fixed number of iterations. This means that the algorithm will stop when the absolute change in ranks is less than a tolerance (i.e $|\\sum_{i=1}^{n}[old\\_ranks]-\\sum_{i=1}^{n}[new\\_ranks]| < tol$"
   ]
  },
  {
   "cell_type": "code",
   "execution_count": 39,
   "metadata": {},
   "outputs": [],
   "source": [
    "pagerank = g.pageRank(resetProbability=0.15, tol=0.01)"
   ]
  },
  {
   "cell_type": "code",
   "execution_count": 40,
   "metadata": {},
   "outputs": [
    {
     "name": "stdout",
     "output_type": "stream",
     "text": [
      "+-------+-------------------+\n",
      "|     id|           pagerank|\n",
      "+-------+-------------------+\n",
      "|0111249|0.46426279284331684|\n",
      "|0201199| 0.3098392969794111|\n",
      "|9405144| 0.9537527763667781|\n",
      "|0207205|0.39433173821570633|\n",
      "|9308151| 3.8872034086787397|\n",
      "|9312166|0.45395760331052887|\n",
      "|9410123|  2.745419664933935|\n",
      "|0201051| 0.3395957083710504|\n",
      "|9408134| 0.8416540767536977|\n",
      "|9907215| 0.5211701202037997|\n",
      "|0007052| 0.5046080486151826|\n",
      "|0002206| 0.3098392969794111|\n",
      "|0104216| 0.3098392969794111|\n",
      "|9507096| 1.1986764158478889|\n",
      "|9605029| 0.3098392969794111|\n",
      "|9811236|  0.669769280303827|\n",
      "|9910077|0.48281752148112295|\n",
      "|0101009| 0.9584714343339985|\n",
      "|9509161|  5.996162729118152|\n",
      "|0009128| 0.3427597222834735|\n",
      "+-------+-------------------+\n",
      "only showing top 20 rows\n",
      "\n"
     ]
    }
   ],
   "source": [
    "pagerank.vertices.select(['id', 'pagerank']).show(20)"
   ]
  },
  {
   "cell_type": "code",
   "execution_count": 76,
   "metadata": {},
   "outputs": [
    {
     "data": {
      "text/plain": [
       "27770"
      ]
     },
     "execution_count": 76,
     "metadata": {},
     "output_type": "execute_result"
    }
   ],
   "source": [
    "pagerank.vertices.count()"
   ]
  },
  {
   "cell_type": "markdown",
   "metadata": {},
   "source": [
    "Since we are in local I will save the results in a csv just in case. This will allow me to not re-run the algorithm if I restart the notebook."
   ]
  },
  {
   "cell_type": "code",
   "execution_count": 42,
   "metadata": {},
   "outputs": [],
   "source": [
    "tmp = pagerank.vertices.select(['id', 'pagerank']).toPandas()"
   ]
  },
  {
   "cell_type": "code",
   "execution_count": 43,
   "metadata": {},
   "outputs": [],
   "source": [
    "tmp.to_csv('pagerank.csv')"
   ]
  },
  {
   "cell_type": "code",
   "execution_count": 44,
   "metadata": {},
   "outputs": [],
   "source": [
    "del tmp"
   ]
  },
  {
   "cell_type": "markdown",
   "metadata": {},
   "source": [
    "We can now add the results of PageRank to our dataframe"
   ]
  },
  {
   "cell_type": "code",
   "execution_count": 45,
   "metadata": {},
   "outputs": [],
   "source": [
    "df_citations_2 = df_citations_2.join(pagerank.vertices.select(['id', 'pagerank']), 'id')"
   ]
  },
  {
   "cell_type": "markdown",
   "metadata": {},
   "source": [
    "Save graph using graphframes"
   ]
  },
  {
   "cell_type": "code",
   "execution_count": 47,
   "metadata": {},
   "outputs": [],
   "source": [
    "g.vertices.write.parquet(\"vertices_pagerank_2\")\n",
    "g.edges.write.parquet(\"edges_pagerank_2\")"
   ]
  },
  {
   "cell_type": "markdown",
   "metadata": {},
   "source": [
    "### Top 10 highest ranked articles"
   ]
  },
  {
   "cell_type": "code",
   "execution_count": 48,
   "metadata": {},
   "outputs": [],
   "source": [
    "top_10_papers_pagerank = df_citations_2.sort(F.col(\"pagerank\").desc()).limit(10).toPandas()"
   ]
  },
  {
   "cell_type": "code",
   "execution_count": 49,
   "metadata": {},
   "outputs": [
    {
     "data": {
      "text/html": [
       "<div>\n",
       "<style scoped>\n",
       "    .dataframe tbody tr th:only-of-type {\n",
       "        vertical-align: middle;\n",
       "    }\n",
       "\n",
       "    .dataframe tbody tr th {\n",
       "        vertical-align: top;\n",
       "    }\n",
       "\n",
       "    .dataframe thead th {\n",
       "        text-align: right;\n",
       "    }\n",
       "</style>\n",
       "<table border=\"1\" class=\"dataframe\">\n",
       "  <thead>\n",
       "    <tr style=\"text-align: right;\">\n",
       "      <th></th>\n",
       "      <th>id</th>\n",
       "      <th>title</th>\n",
       "      <th>pagerank</th>\n",
       "      <th>nb_cit_received</th>\n",
       "      <th>year</th>\n",
       "    </tr>\n",
       "  </thead>\n",
       "  <tbody>\n",
       "    <tr>\n",
       "      <th>0</th>\n",
       "      <td>9207016</td>\n",
       "      <td>Noncompact Symmetries in String Theory</td>\n",
       "      <td>169.917310</td>\n",
       "      <td>219</td>\n",
       "      <td>1992</td>\n",
       "    </tr>\n",
       "    <tr>\n",
       "      <th>1</th>\n",
       "      <td>9407087</td>\n",
       "      <td>Monopole Condensation, And Confinement In N=2 ...</td>\n",
       "      <td>166.786032</td>\n",
       "      <td>1299</td>\n",
       "      <td>1994</td>\n",
       "    </tr>\n",
       "    <tr>\n",
       "      <th>2</th>\n",
       "      <td>9201015</td>\n",
       "      <td>An Algorithm to Generate Classical Solutions f...</td>\n",
       "      <td>153.769564</td>\n",
       "      <td>14</td>\n",
       "      <td>1992</td>\n",
       "    </tr>\n",
       "    <tr>\n",
       "      <th>3</th>\n",
       "      <td>9503124</td>\n",
       "      <td>String Theory Dynamics In Various Dimensions</td>\n",
       "      <td>122.225978</td>\n",
       "      <td>1114</td>\n",
       "      <td>1995</td>\n",
       "    </tr>\n",
       "    <tr>\n",
       "      <th>4</th>\n",
       "      <td>9510017</td>\n",
       "      <td>Dirichlet-Branes and Ramond-Ramond Charges</td>\n",
       "      <td>115.238749</td>\n",
       "      <td>1155</td>\n",
       "      <td>1995</td>\n",
       "    </tr>\n",
       "    <tr>\n",
       "      <th>5</th>\n",
       "      <td>9402044</td>\n",
       "      <td>Exact Results on the Space of Vacua of Four Di...</td>\n",
       "      <td>104.535802</td>\n",
       "      <td>257</td>\n",
       "      <td>1994</td>\n",
       "    </tr>\n",
       "    <tr>\n",
       "      <th>6</th>\n",
       "      <td>9711200</td>\n",
       "      <td>The Large N Limit of Superconformal Field Theo...</td>\n",
       "      <td>92.513822</td>\n",
       "      <td>2414</td>\n",
       "      <td>1997</td>\n",
       "    </tr>\n",
       "    <tr>\n",
       "      <th>7</th>\n",
       "      <td>9410167</td>\n",
       "      <td>Unity of Superstring Dualities</td>\n",
       "      <td>89.910443</td>\n",
       "      <td>748</td>\n",
       "      <td>1994</td>\n",
       "    </tr>\n",
       "    <tr>\n",
       "      <th>8</th>\n",
       "      <td>9408099</td>\n",
       "      <td>Monopoles, Duality and Chiral Symmetry Breakin...</td>\n",
       "      <td>85.588881</td>\n",
       "      <td>1006</td>\n",
       "      <td>1994</td>\n",
       "    </tr>\n",
       "    <tr>\n",
       "      <th>9</th>\n",
       "      <td>9402002</td>\n",
       "      <td>Strong-Weak Coupling Duality in Four Dimension...</td>\n",
       "      <td>79.214885</td>\n",
       "      <td>282</td>\n",
       "      <td>1994</td>\n",
       "    </tr>\n",
       "  </tbody>\n",
       "</table>\n",
       "</div>"
      ],
      "text/plain": [
       "        id                                              title    pagerank  \\\n",
       "0  9207016             Noncompact Symmetries in String Theory  169.917310   \n",
       "1  9407087  Monopole Condensation, And Confinement In N=2 ...  166.786032   \n",
       "2  9201015  An Algorithm to Generate Classical Solutions f...  153.769564   \n",
       "3  9503124       String Theory Dynamics In Various Dimensions  122.225978   \n",
       "4  9510017         Dirichlet-Branes and Ramond-Ramond Charges  115.238749   \n",
       "5  9402044  Exact Results on the Space of Vacua of Four Di...  104.535802   \n",
       "6  9711200  The Large N Limit of Superconformal Field Theo...   92.513822   \n",
       "7  9410167                     Unity of Superstring Dualities   89.910443   \n",
       "8  9408099  Monopoles, Duality and Chiral Symmetry Breakin...   85.588881   \n",
       "9  9402002  Strong-Weak Coupling Duality in Four Dimension...   79.214885   \n",
       "\n",
       "   nb_cit_received  year  \n",
       "0              219  1992  \n",
       "1             1299  1994  \n",
       "2               14  1992  \n",
       "3             1114  1995  \n",
       "4             1155  1995  \n",
       "5              257  1994  \n",
       "6             2414  1997  \n",
       "7              748  1994  \n",
       "8             1006  1994  \n",
       "9              282  1994  "
      ]
     },
     "execution_count": 49,
     "metadata": {},
     "output_type": "execute_result"
    }
   ],
   "source": [
    "top_10_papers_pagerank[['id', 'title', 'pagerank', 'nb_cit_received', 'year']]"
   ]
  },
  {
   "cell_type": "markdown",
   "metadata": {},
   "source": [
    "Lets compare with the ranking according to number od citations received"
   ]
  },
  {
   "cell_type": "code",
   "execution_count": 50,
   "metadata": {},
   "outputs": [],
   "source": [
    "top_10_papers = df_citations_2.sort(F.col(\"nb_cit_received\").desc()).limit(10).toPandas()"
   ]
  },
  {
   "cell_type": "code",
   "execution_count": 51,
   "metadata": {},
   "outputs": [
    {
     "data": {
      "text/html": [
       "<div>\n",
       "<style scoped>\n",
       "    .dataframe tbody tr th:only-of-type {\n",
       "        vertical-align: middle;\n",
       "    }\n",
       "\n",
       "    .dataframe tbody tr th {\n",
       "        vertical-align: top;\n",
       "    }\n",
       "\n",
       "    .dataframe thead th {\n",
       "        text-align: right;\n",
       "    }\n",
       "</style>\n",
       "<table border=\"1\" class=\"dataframe\">\n",
       "  <thead>\n",
       "    <tr style=\"text-align: right;\">\n",
       "      <th></th>\n",
       "      <th>id</th>\n",
       "      <th>title</th>\n",
       "      <th>pagerank</th>\n",
       "      <th>nb_cit_received</th>\n",
       "      <th>year</th>\n",
       "    </tr>\n",
       "  </thead>\n",
       "  <tbody>\n",
       "    <tr>\n",
       "      <th>0</th>\n",
       "      <td>9711200</td>\n",
       "      <td>The Large N Limit of Superconformal Field Theo...</td>\n",
       "      <td>92.513822</td>\n",
       "      <td>2414</td>\n",
       "      <td>1997</td>\n",
       "    </tr>\n",
       "    <tr>\n",
       "      <th>1</th>\n",
       "      <td>9802150</td>\n",
       "      <td>Anti De Sitter Space And Holography</td>\n",
       "      <td>61.162910</td>\n",
       "      <td>1775</td>\n",
       "      <td>1998</td>\n",
       "    </tr>\n",
       "    <tr>\n",
       "      <th>2</th>\n",
       "      <td>9802109</td>\n",
       "      <td>Gauge Theory Correlators from Non-Critical Str...</td>\n",
       "      <td>56.051604</td>\n",
       "      <td>1641</td>\n",
       "      <td>1998</td>\n",
       "    </tr>\n",
       "    <tr>\n",
       "      <th>3</th>\n",
       "      <td>9407087</td>\n",
       "      <td>Monopole Condensation, And Confinement In N=2 ...</td>\n",
       "      <td>166.786032</td>\n",
       "      <td>1299</td>\n",
       "      <td>1994</td>\n",
       "    </tr>\n",
       "    <tr>\n",
       "      <th>4</th>\n",
       "      <td>9610043</td>\n",
       "      <td>M Theory As A Matrix Model: A Conjecture</td>\n",
       "      <td>73.109632</td>\n",
       "      <td>1199</td>\n",
       "      <td>1996</td>\n",
       "    </tr>\n",
       "    <tr>\n",
       "      <th>5</th>\n",
       "      <td>9510017</td>\n",
       "      <td>Dirichlet-Branes and Ramond-Ramond Charges</td>\n",
       "      <td>115.238749</td>\n",
       "      <td>1155</td>\n",
       "      <td>1995</td>\n",
       "    </tr>\n",
       "    <tr>\n",
       "      <th>6</th>\n",
       "      <td>9908142</td>\n",
       "      <td>String Theory and Noncommutative Geometry</td>\n",
       "      <td>38.650528</td>\n",
       "      <td>1144</td>\n",
       "      <td>1999</td>\n",
       "    </tr>\n",
       "    <tr>\n",
       "      <th>7</th>\n",
       "      <td>9503124</td>\n",
       "      <td>String Theory Dynamics In Various Dimensions</td>\n",
       "      <td>122.225978</td>\n",
       "      <td>1114</td>\n",
       "      <td>1995</td>\n",
       "    </tr>\n",
       "    <tr>\n",
       "      <th>8</th>\n",
       "      <td>9906064</td>\n",
       "      <td>An Alternative to Compactification</td>\n",
       "      <td>48.207609</td>\n",
       "      <td>1032</td>\n",
       "      <td>1999</td>\n",
       "    </tr>\n",
       "    <tr>\n",
       "      <th>9</th>\n",
       "      <td>9408099</td>\n",
       "      <td>Monopoles, Duality and Chiral Symmetry Breakin...</td>\n",
       "      <td>85.588881</td>\n",
       "      <td>1006</td>\n",
       "      <td>1994</td>\n",
       "    </tr>\n",
       "  </tbody>\n",
       "</table>\n",
       "</div>"
      ],
      "text/plain": [
       "        id                                              title    pagerank  \\\n",
       "0  9711200  The Large N Limit of Superconformal Field Theo...   92.513822   \n",
       "1  9802150                Anti De Sitter Space And Holography   61.162910   \n",
       "2  9802109  Gauge Theory Correlators from Non-Critical Str...   56.051604   \n",
       "3  9407087  Monopole Condensation, And Confinement In N=2 ...  166.786032   \n",
       "4  9610043           M Theory As A Matrix Model: A Conjecture   73.109632   \n",
       "5  9510017         Dirichlet-Branes and Ramond-Ramond Charges  115.238749   \n",
       "6  9908142          String Theory and Noncommutative Geometry   38.650528   \n",
       "7  9503124       String Theory Dynamics In Various Dimensions  122.225978   \n",
       "8  9906064                 An Alternative to Compactification   48.207609   \n",
       "9  9408099  Monopoles, Duality and Chiral Symmetry Breakin...   85.588881   \n",
       "\n",
       "   nb_cit_received  year  \n",
       "0             2414  1997  \n",
       "1             1775  1998  \n",
       "2             1641  1998  \n",
       "3             1299  1994  \n",
       "4             1199  1996  \n",
       "5             1155  1995  \n",
       "6             1144  1999  \n",
       "7             1114  1995  \n",
       "8             1032  1999  \n",
       "9             1006  1994  "
      ]
     },
     "execution_count": 51,
     "metadata": {},
     "output_type": "execute_result"
    }
   ],
   "source": [
    "top_10_papers[['id', 'title', 'pagerank', 'nb_cit_received', 'year']]"
   ]
  },
  {
   "cell_type": "markdown",
   "metadata": {},
   "source": [
    "Let's display papers that are in both top 10."
   ]
  },
  {
   "cell_type": "code",
   "execution_count": 52,
   "metadata": {},
   "outputs": [
    {
     "data": {
      "text/html": [
       "<div>\n",
       "<style scoped>\n",
       "    .dataframe tbody tr th:only-of-type {\n",
       "        vertical-align: middle;\n",
       "    }\n",
       "\n",
       "    .dataframe tbody tr th {\n",
       "        vertical-align: top;\n",
       "    }\n",
       "\n",
       "    .dataframe thead th {\n",
       "        text-align: right;\n",
       "    }\n",
       "</style>\n",
       "<table border=\"1\" class=\"dataframe\">\n",
       "  <thead>\n",
       "    <tr style=\"text-align: right;\">\n",
       "      <th></th>\n",
       "      <th>id</th>\n",
       "      <th>title</th>\n",
       "      <th>pagerank</th>\n",
       "      <th>nb_cit_received</th>\n",
       "      <th>year</th>\n",
       "    </tr>\n",
       "  </thead>\n",
       "  <tbody>\n",
       "    <tr>\n",
       "      <th>0</th>\n",
       "      <td>9711200</td>\n",
       "      <td>The Large N Limit of Superconformal Field Theo...</td>\n",
       "      <td>92.513822</td>\n",
       "      <td>2414</td>\n",
       "      <td>1997</td>\n",
       "    </tr>\n",
       "    <tr>\n",
       "      <th>3</th>\n",
       "      <td>9407087</td>\n",
       "      <td>Monopole Condensation, And Confinement In N=2 ...</td>\n",
       "      <td>166.786032</td>\n",
       "      <td>1299</td>\n",
       "      <td>1994</td>\n",
       "    </tr>\n",
       "    <tr>\n",
       "      <th>5</th>\n",
       "      <td>9510017</td>\n",
       "      <td>Dirichlet-Branes and Ramond-Ramond Charges</td>\n",
       "      <td>115.238749</td>\n",
       "      <td>1155</td>\n",
       "      <td>1995</td>\n",
       "    </tr>\n",
       "    <tr>\n",
       "      <th>7</th>\n",
       "      <td>9503124</td>\n",
       "      <td>String Theory Dynamics In Various Dimensions</td>\n",
       "      <td>122.225978</td>\n",
       "      <td>1114</td>\n",
       "      <td>1995</td>\n",
       "    </tr>\n",
       "    <tr>\n",
       "      <th>9</th>\n",
       "      <td>9408099</td>\n",
       "      <td>Monopoles, Duality and Chiral Symmetry Breakin...</td>\n",
       "      <td>85.588881</td>\n",
       "      <td>1006</td>\n",
       "      <td>1994</td>\n",
       "    </tr>\n",
       "  </tbody>\n",
       "</table>\n",
       "</div>"
      ],
      "text/plain": [
       "        id                                              title    pagerank  \\\n",
       "0  9711200  The Large N Limit of Superconformal Field Theo...   92.513822   \n",
       "3  9407087  Monopole Condensation, And Confinement In N=2 ...  166.786032   \n",
       "5  9510017         Dirichlet-Branes and Ramond-Ramond Charges  115.238749   \n",
       "7  9503124       String Theory Dynamics In Various Dimensions  122.225978   \n",
       "9  9408099  Monopoles, Duality and Chiral Symmetry Breakin...   85.588881   \n",
       "\n",
       "   nb_cit_received  year  \n",
       "0             2414  1997  \n",
       "3             1299  1994  \n",
       "5             1155  1995  \n",
       "7             1114  1995  \n",
       "9             1006  1994  "
      ]
     },
     "execution_count": 52,
     "metadata": {},
     "output_type": "execute_result"
    }
   ],
   "source": [
    "top_10_papers[top_10_papers['id'].isin(top_10_papers_pagerank['id'].values)][['id', 'title', 'pagerank', 'nb_cit_received', 'year']]"
   ]
  },
  {
   "cell_type": "code",
   "execution_count": 53,
   "metadata": {},
   "outputs": [
    {
     "data": {
      "text/html": [
       "<div>\n",
       "<style scoped>\n",
       "    .dataframe tbody tr th:only-of-type {\n",
       "        vertical-align: middle;\n",
       "    }\n",
       "\n",
       "    .dataframe tbody tr th {\n",
       "        vertical-align: top;\n",
       "    }\n",
       "\n",
       "    .dataframe thead th {\n",
       "        text-align: right;\n",
       "    }\n",
       "</style>\n",
       "<table border=\"1\" class=\"dataframe\">\n",
       "  <thead>\n",
       "    <tr style=\"text-align: right;\">\n",
       "      <th></th>\n",
       "      <th>id</th>\n",
       "      <th>title</th>\n",
       "      <th>pagerank</th>\n",
       "      <th>nb_cit_received</th>\n",
       "      <th>year</th>\n",
       "    </tr>\n",
       "  </thead>\n",
       "  <tbody>\n",
       "    <tr>\n",
       "      <th>1</th>\n",
       "      <td>9407087</td>\n",
       "      <td>Monopole Condensation, And Confinement In N=2 ...</td>\n",
       "      <td>166.786032</td>\n",
       "      <td>1299</td>\n",
       "      <td>1994</td>\n",
       "    </tr>\n",
       "    <tr>\n",
       "      <th>3</th>\n",
       "      <td>9503124</td>\n",
       "      <td>String Theory Dynamics In Various Dimensions</td>\n",
       "      <td>122.225978</td>\n",
       "      <td>1114</td>\n",
       "      <td>1995</td>\n",
       "    </tr>\n",
       "    <tr>\n",
       "      <th>4</th>\n",
       "      <td>9510017</td>\n",
       "      <td>Dirichlet-Branes and Ramond-Ramond Charges</td>\n",
       "      <td>115.238749</td>\n",
       "      <td>1155</td>\n",
       "      <td>1995</td>\n",
       "    </tr>\n",
       "    <tr>\n",
       "      <th>6</th>\n",
       "      <td>9711200</td>\n",
       "      <td>The Large N Limit of Superconformal Field Theo...</td>\n",
       "      <td>92.513822</td>\n",
       "      <td>2414</td>\n",
       "      <td>1997</td>\n",
       "    </tr>\n",
       "    <tr>\n",
       "      <th>8</th>\n",
       "      <td>9408099</td>\n",
       "      <td>Monopoles, Duality and Chiral Symmetry Breakin...</td>\n",
       "      <td>85.588881</td>\n",
       "      <td>1006</td>\n",
       "      <td>1994</td>\n",
       "    </tr>\n",
       "  </tbody>\n",
       "</table>\n",
       "</div>"
      ],
      "text/plain": [
       "        id                                              title    pagerank  \\\n",
       "1  9407087  Monopole Condensation, And Confinement In N=2 ...  166.786032   \n",
       "3  9503124       String Theory Dynamics In Various Dimensions  122.225978   \n",
       "4  9510017         Dirichlet-Branes and Ramond-Ramond Charges  115.238749   \n",
       "6  9711200  The Large N Limit of Superconformal Field Theo...   92.513822   \n",
       "8  9408099  Monopoles, Duality and Chiral Symmetry Breakin...   85.588881   \n",
       "\n",
       "   nb_cit_received  year  \n",
       "1             1299  1994  \n",
       "3             1114  1995  \n",
       "4             1155  1995  \n",
       "6             2414  1997  \n",
       "8             1006  1994  "
      ]
     },
     "execution_count": 53,
     "metadata": {},
     "output_type": "execute_result"
    }
   ],
   "source": [
    "top_10_papers_pagerank[top_10_papers_pagerank['id'].isin(top_10_papers['id'].values)][['id', 'title', 'pagerank', 'nb_cit_received', 'year']]"
   ]
  },
  {
   "cell_type": "markdown",
   "metadata": {},
   "source": [
    "5 articles are present in both top 10."
   ]
  },
  {
   "cell_type": "markdown",
   "metadata": {},
   "source": [
    "### Average ranking of papers per year"
   ]
  },
  {
   "cell_type": "code",
   "execution_count": 54,
   "metadata": {},
   "outputs": [],
   "source": [
    "year_avg_ranking =  df_citations_2.groupBy('year').avg('pagerank').orderBy('year').toPandas()"
   ]
  },
  {
   "cell_type": "code",
   "execution_count": 55,
   "metadata": {},
   "outputs": [
    {
     "data": {
      "image/png": "[encoded data removed]",
      "text/plain": [
       "<Figure size 720x288 with 1 Axes>"
      ]
     },
     "metadata": {},
     "output_type": "display_data"
    }
   ],
   "source": [
    "fig= plt.figure(figsize=(10,4))\n",
    "plt.plot(year_avg_ranking['year'], year_avg_ranking['avg(pagerank)'])\n",
    "plt.title('Average ranking of papers per year')\n",
    "plt.show()"
   ]
  },
  {
   "cell_type": "markdown",
   "metadata": {},
   "source": [
    "As expected, older papers have higher ranking that newer ones. This bias is caused by two factor:\n",
    "- First, older paper tend to have more citations, which mechanically increases it's ranking\n",
    "- Second, if a break through article cites a previous work, it will strongly propagate its own \"importance\" to older papers it has cited. \n",
    "\n",
    "We can see that the pick citations in the previous graphs has totally disapeared. A better way of doing this ranking would be to count the temporal component of those citations in the calculation of ranks."
   ]
  },
  {
   "cell_type": "markdown",
   "metadata": {},
   "source": [
    "# Clustering papers\n"
   ]
  },
  {
   "cell_type": "markdown",
   "metadata": {},
   "source": [
    "## The Label Propagation algorithm\n",
    "\n",
    "The lalbel propagation algorithm (Raghavan et al in 2007, \"Near linear time algorithm to detect community structures in large-scale networks\") is an iterative that propagates labels through a network to obtain communities of nodes. Using this algorithm will allow us to create cluster of papers belonging to the same \"research process\" or \"research tree\".\n",
    "\n",
    "The LPA works as follow:\n",
    "- Every node is initialized with a unique community label. \n",
    "- At every iteration of propagation, each node updates its label to the one that the maximum numbers of its neighbours belongs to. Ties are broken uniformly and randomly.\n",
    "- LPA reaches convergence when each node has the majority label of its neighbours or reaches the max number of iterations allowed"
   ]
  },
  {
   "cell_type": "markdown",
   "metadata": {},
   "source": [
    "First, we recreate our graph, this time we will make it undirected by adding edges corresponding to \"is cited by\" association."
   ]
  },
  {
   "cell_type": "code",
   "execution_count": 56,
   "metadata": {},
   "outputs": [],
   "source": [
    "del g"
   ]
  },
  {
   "cell_type": "code",
   "execution_count": 119,
   "metadata": {},
   "outputs": [],
   "source": [
    "vertices = df_citations_2.select(['id', 'title'])"
   ]
  },
  {
   "cell_type": "code",
   "execution_count": 57,
   "metadata": {},
   "outputs": [],
   "source": [
    "edges_to = lines.map(lambda x: (format_id(x.split('\\t')[0]), format_id(x.split('\\t')[1]), 'cite'))\n",
    "edges_to = edges_to.toDF(['src', 'dst', 'type'])"
   ]
  },
  {
   "cell_type": "code",
   "execution_count": 58,
   "metadata": {},
   "outputs": [],
   "source": [
    "edges_from = lines.map(lambda x: (format_id(x.split('\\t')[1]), format_id(x.split('\\t')[0]), 'is_cited'))\n",
    "edges_from = edges_from.toDF(['src', 'dst', 'type'])"
   ]
  },
  {
   "cell_type": "code",
   "execution_count": 59,
   "metadata": {},
   "outputs": [],
   "source": [
    "edges = edges_to.union(edges_from)"
   ]
  },
  {
   "cell_type": "code",
   "execution_count": 60,
   "metadata": {},
   "outputs": [
    {
     "name": "stdout",
     "output_type": "stream",
     "text": [
      "+-------+-------+----+\n",
      "|    src|    dst|type|\n",
      "+-------+-------+----+\n",
      "|0001001|9304045|cite|\n",
      "|0001001|9308122|cite|\n",
      "+-------+-------+----+\n",
      "only showing top 2 rows\n",
      "\n"
     ]
    }
   ],
   "source": [
    "edges.show(2)"
   ]
  },
  {
   "cell_type": "code",
   "execution_count": 61,
   "metadata": {},
   "outputs": [],
   "source": [
    "del edges_to, edges_from"
   ]
  },
  {
   "cell_type": "code",
   "execution_count": 62,
   "metadata": {},
   "outputs": [],
   "source": [
    "g = GraphFrame(vertices, edges)"
   ]
  },
  {
   "cell_type": "code",
   "execution_count": 63,
   "metadata": {},
   "outputs": [
    {
     "name": "stdout",
     "output_type": "stream",
     "text": [
      "+-------+-------+----+\n",
      "|    src|    dst|type|\n",
      "+-------+-------+----+\n",
      "|0001001|9304045|cite|\n",
      "|0001001|9308122|cite|\n",
      "+-------+-------+----+\n",
      "only showing top 2 rows\n",
      "\n"
     ]
    }
   ],
   "source": [
    "g.edges.show(2)"
   ]
  },
  {
   "cell_type": "markdown",
   "metadata": {},
   "source": [
    "### Apply LPA"
   ]
  },
  {
   "cell_type": "markdown",
   "metadata": {},
   "source": [
    "Launching the algorithm for 50 iteration doesn't guarantee covergence. Depending on your computer and spark configuration you might be able to launch it for more iterations. Considering, my limited ressources 50 iterations allow for a reasonnable execution time."
   ]
  },
  {
   "cell_type": "code",
   "execution_count": 64,
   "metadata": {},
   "outputs": [],
   "source": [
    "result_LPA = g.labelPropagation(maxIter=50)"
   ]
  },
  {
   "cell_type": "code",
   "execution_count": 119,
   "metadata": {},
   "outputs": [
    {
     "name": "stdout",
     "output_type": "stream",
     "text": [
      "+-------+--------------------+-----+\n",
      "|     id|               title|label|\n",
      "+-------+--------------------+-----+\n",
      "|0111249|Spectrum of Schro...|   26|\n",
      "|0201199|On three dimensio...|   29|\n",
      "+-------+--------------------+-----+\n",
      "only showing top 2 rows\n",
      "\n"
     ]
    }
   ],
   "source": [
    "result_LPA.show(2)"
   ]
  },
  {
   "cell_type": "code",
   "execution_count": 65,
   "metadata": {},
   "outputs": [],
   "source": [
    "g.vertices.write.parquet(\"vertices_LPA_2\")\n",
    "g.edges.write.parquet(\"edges_LPA_2\")"
   ]
  },
  {
   "cell_type": "code",
   "execution_count": 66,
   "metadata": {},
   "outputs": [],
   "source": [
    "result_LPA.select(['id', 'label']).toPandas().to_csv('results_LPA')"
   ]
  },
  {
   "cell_type": "code",
   "execution_count": 128,
   "metadata": {},
   "outputs": [
    {
     "data": {
      "text/plain": [
       "200"
      ]
     },
     "execution_count": 128,
     "metadata": {},
     "output_type": "execute_result"
    }
   ],
   "source": [
    "result_LPA.rdd.getNumPartitions()"
   ]
  },
  {
   "cell_type": "markdown",
   "metadata": {},
   "source": [
    "Number of detected cluster (i.e communities)"
   ]
  },
  {
   "cell_type": "code",
   "execution_count": 68,
   "metadata": {},
   "outputs": [
    {
     "data": {
      "text/plain": [
       "890"
      ]
     },
     "execution_count": 68,
     "metadata": {},
     "output_type": "execute_result"
    }
   ],
   "source": [
    "result_LPA.select('label').distinct().count()"
   ]
  },
  {
   "cell_type": "code",
   "execution_count": 86,
   "metadata": {},
   "outputs": [],
   "source": [
    "df_citations_2 = df_citations_2.join(result_LPA.select(['id', 'label']), 'id')"
   ]
  },
  {
   "cell_type": "code",
   "execution_count": 87,
   "metadata": {},
   "outputs": [
    {
     "name": "stdout",
     "output_type": "stream",
     "text": [
      "root\n",
      " |-- id: string (nullable = true)\n",
      " |-- cit_given: array (nullable = true)\n",
      " |    |-- element: string (containsNull = true)\n",
      " |-- nb_cit_given: long (nullable = true)\n",
      " |-- cit_received: array (nullable = true)\n",
      " |    |-- element: string (containsNull = true)\n",
      " |-- nb_cit_received: long (nullable = true)\n",
      " |-- title: string (nullable = true)\n",
      " |-- abstract: string (nullable = true)\n",
      " |-- year: string (nullable = true)\n",
      " |-- date: date (nullable = true)\n",
      " |-- pagerank: double (nullable = true)\n",
      " |-- label: long (nullable = true)\n",
      "\n"
     ]
    }
   ],
   "source": [
    "df_citations_2.printSchema()"
   ]
  },
  {
   "cell_type": "markdown",
   "metadata": {},
   "source": [
    "The number of obtained cluster is higher than expected. But still we will look to see if there is clusters containing a significant number of papers."
   ]
  },
  {
   "cell_type": "code",
   "execution_count": 88,
   "metadata": {},
   "outputs": [
    {
     "name": "stdout",
     "output_type": "stream",
     "text": [
      "+-------------+-----+\n",
      "|        label|count|\n",
      "+-------------+-----+\n",
      "|  17179869325|14930|\n",
      "|1065151889414|  818|\n",
      "| 231928234090|  506|\n",
      "|1082331758644|  464|\n",
      "| 463856468031|  347|\n",
      "| 747324309543|  272|\n",
      "| 807453851694|  254|\n",
      "| 695784702044|  224|\n",
      "|1005022347273|  216|\n",
      "| 927712936010|  213|\n",
      "+-------------+-----+\n",
      "only showing top 10 rows\n",
      "\n"
     ]
    }
   ],
   "source": [
    "df_citations_2.groupBy('label').count().orderBy(F.desc('count')).show(10)"
   ]
  },
  {
   "cell_type": "markdown",
   "metadata": {},
   "source": [
    "### Describing clusters\n",
    "So some clusters seems to contain enough papers so that our analysis can be interesting. We are going to try to describe clusters by using the abstract of each paper in a group. To do so, we will simply process the abstract of all papers and apply a word count."
   ]
  },
  {
   "cell_type": "code",
   "execution_count": 89,
   "metadata": {},
   "outputs": [],
   "source": [
    "import string\n",
    "import re\n",
    "\n",
    "import nltk\n",
    "from nltk.corpus import stopwords\n",
    "stop_words=set(stopwords.words('english'))"
   ]
  },
  {
   "cell_type": "code",
   "execution_count": 90,
   "metadata": {},
   "outputs": [],
   "source": [
    "def tokenize_text(t):\n",
    "    #Remove punctuation and non alphanumerical\n",
    "    t = t.translate(str.maketrans('','',string.punctuation))\n",
    "    t = re.sub(r'([^\\s\\w]|_)+', '', t)\n",
    "    #put all words in lower case\n",
    "    t = t.lower()\n",
    "    words = nltk.word_tokenize(t)\n",
    "    \n",
    "    return [word for word in words if not word in stop_words]"
   ]
  },
  {
   "cell_type": "code",
   "execution_count": 91,
   "metadata": {},
   "outputs": [],
   "source": [
    "def list_to_dict(l):\n",
    "    res={}\n",
    "    keys=[]\n",
    "    for w in l:\n",
    "        if w in keys:\n",
    "            res[w] += 1\n",
    "        else:\n",
    "            res[w] = 1\n",
    "            keys.append(w)\n",
    "    return res"
   ]
  },
  {
   "cell_type": "code",
   "execution_count": 92,
   "metadata": {},
   "outputs": [],
   "source": [
    "def unionDict(dic1, dic2):\n",
    "    keys = dic1.keys()\n",
    "    for k in dic2.keys():\n",
    "        if k in keys:\n",
    "            dic1[k] += dic2[k]\n",
    "        else:\n",
    "            dic1[k] = dic2[k]\n",
    "    return dic1"
   ]
  },
  {
   "cell_type": "markdown",
   "metadata": {},
   "source": [
    "The initial idea was to use transform **unionDict()** as a **pandas_udf** aggregate function in order to return the word count of abstracts by label. Unfortunatly, **MapType** are not yet supported as returned value. \n",
    "\n",
    "https://spark.apache.org/docs/latest/api/python/pyspark.sql.html?highlight=agg#pyspark.sql.functions.pandas_udf"
   ]
  },
  {
   "cell_type": "code",
   "execution_count": 93,
   "metadata": {},
   "outputs": [],
   "source": [
    "tokenize_udf = F.udf(tokenize_text, ArrayType(StringType()))\n",
    "list_to_dict_udf = F.udf(list_to_dict, MapType(StringType(), DoubleType()))"
   ]
  },
  {
   "cell_type": "code",
   "execution_count": 94,
   "metadata": {},
   "outputs": [],
   "source": [
    "df_citations_2 = df_citations_2.withColumn(\"abstract_tokenized\", tokenize_udf(df_citations_2['abstract']))"
   ]
  },
  {
   "cell_type": "code",
   "execution_count": 95,
   "metadata": {},
   "outputs": [],
   "source": [
    "df_citations_2 = df_citations_2.withColumn(\"abstract_dict\", list_to_dict_udf(df_citations_2['abstract_tokenized']))"
   ]
  },
  {
   "cell_type": "markdown",
   "metadata": {},
   "source": [
    "Instead we will perform the word count using the rdd representation of the data frame. We will first map the label and the tokenized abastract and then use reduce by key using **unionDict** as reduce function."
   ]
  },
  {
   "cell_type": "code",
   "execution_count": 96,
   "metadata": {},
   "outputs": [],
   "source": [
    "abstract_rdd = df_citations_2.select(['label', 'abstract_tokenized']).rdd"
   ]
  },
  {
   "cell_type": "code",
   "execution_count": 97,
   "metadata": {},
   "outputs": [],
   "source": [
    "abstract_rdd_word_count = abstract_rdd.map(lambda x: (x[0], list_to_dict(x[1]))).reduceByKey(lambda x,y: unionDict(x,y))"
   ]
  },
  {
   "cell_type": "code",
   "execution_count": 98,
   "metadata": {},
   "outputs": [],
   "source": [
    "abstract_word_count_df = abstract_rdd_word_count.toDF(['label', 'word_count']).toPandas()"
   ]
  },
  {
   "cell_type": "code",
   "execution_count": 99,
   "metadata": {},
   "outputs": [],
   "source": [
    "label_df = df_citations_2.groupBy('label').count().toPandas()"
   ]
  },
  {
   "cell_type": "code",
   "execution_count": 100,
   "metadata": {},
   "outputs": [],
   "source": [
    "label_df_word_count = label_df.set_index('label').join(abstract_word_count_df.set_index('label'))"
   ]
  },
  {
   "cell_type": "code",
   "execution_count": 101,
   "metadata": {},
   "outputs": [
    {
     "name": "stderr",
     "output_type": "stream",
     "text": [
      "/home/steve/anaconda3/envs/pyspark/lib/python3.6/site-packages/ipykernel_launcher.py:1: FutureWarning: Passing a negative integer is deprecated in version 1.0 and will not be supported in future version. Instead, use None to not limit the column width.\n",
      "  \"\"\"Entry point for launching an IPython kernel.\n"
     ]
    }
   ],
   "source": [
    "pd.set_option('display.max_colwidth', -1)"
   ]
  },
  {
   "cell_type": "code",
   "execution_count": 102,
   "metadata": {},
   "outputs": [
    {
     "data": {
      "text/html": [
       "<div>\n",
       "<style scoped>\n",
       "    .dataframe tbody tr th:only-of-type {\n",
       "        vertical-align: middle;\n",
       "    }\n",
       "\n",
       "    .dataframe tbody tr th {\n",
       "        vertical-align: top;\n",
       "    }\n",
       "\n",
       "    .dataframe thead th {\n",
       "        text-align: right;\n",
       "    }\n",
       "</style>\n",
       "<table border=\"1\" class=\"dataframe\">\n",
       "  <thead>\n",
       "    <tr style=\"text-align: right;\">\n",
       "      <th></th>\n",
       "      <th>count</th>\n",
       "      <th>word_count</th>\n",
       "    </tr>\n",
       "    <tr>\n",
       "      <th>label</th>\n",
       "      <th></th>\n",
       "      <th></th>\n",
       "    </tr>\n",
       "  </thead>\n",
       "  <tbody>\n",
       "    <tr>\n",
       "      <th>17179869325</th>\n",
       "      <td>14930</td>\n",
       "      <td>{'unavailable': 3, 'marquard': 2, 'abrupt': 1, 'allscale': 1, 'kinfty': 2, 'superworldvolume': 2, '362d': 2, 'cubically': 1, '0alpha1': 1, 'instantonmeron': 1, 'truncates': 1, 'quartets': 1, 'o5sp4': 1, 'spreading': 7, 'winftygravity': 3, 'superanalysis': 1, 'carriers': 2, 'phenomenologically': 45, 'calderbank': 3, '0': 386, '1': 622, 'noncomutative': 1, '2': 582, '3': 309, '4': 409, '5': 137, '6': 142, 'kallenlehmann': 1, '7': 66, '8': 136, 'complexifiedcotangent': 1, '9': 36, 'discretisations': 2, '1000': 2, 'equivariantly': 2, 'result': 1101, 'spaceorientable': 1, 'reprodued': 1, 'evaporate': 6, 'flip': 14, 'imbedded': 5, 'staircase': 1, 'resume': 2, 'b': 324, 'c': 211, 'garland': 2, 'collisions': 17, 'sinhgordon': 7, 'e': 103, 'f': 220, 'g': 508, 'h': 213, '1011': 3, 'truncated': 58, '1010': 4, 'j': 71, 'k': 341, 'so3xso3': 2, 'l': 111, 'eating': 2, 'n': 1685, 'reconfirmed': 1, 'p': 292, 'q': 207, 'r': 330, 'u': 88, 'cbundles': 2, 'v': 96, 'qpsi0': 1, 'w': 125, 'x': 1010, 'hyperkahler': 154, 'information': 238, 'z': 148, 'goldstone': 91, 'dp1index': 1, '1020': 3, 'reproduce': 180, '1019': 2, 'u4r9': 1, 'nonregular': 3, '1018': 2, '1017': 3, '1016': 13, '1015': 2, 'wyllard': 1, '1014': 5, 'suffered': 1, '1012': 5, 'besides': 67, 'irrelevancy': 1, '3692': 1, 'nfgeq': 3, 'eguchihansongibbons': 1, '1033': 3, '1032': 1, 'violationconservation': 1, '1030': 1, 'criterions': 1, 'wigner': 34, ...}</td>\n",
       "    </tr>\n",
       "    <tr>\n",
       "      <th>1065151889414</th>\n",
       "      <td>818</td>\n",
       "      <td>{'cancel': 9, 'half': 1, 'dimopoulos': 2, 'interacting': 10, 'einsteins': 35, 'spontaneous': 15, 'equations': 237, 'imperfect': 2, 'diverges': 3, 'would': 34, 'electronically': 1, 'combinatorial': 2, 'ten': 3, '2forms': 1, 'energy': 228, 'conceal': 1, 'destabilizes': 1, 'successfully': 1, 'solid': 6, 'matterquantum': 1, 'tev': 25, 'meanwhile': 1, 'vbulk': 1, 'righthanded': 1, 'factorized': 1, 'reenter': 2, 'coincide': 4, 'require': 8, 'onbrane': 6, 'd5brane': 3, 'hartlehawking': 1, 'phenomenologically': 3, '0': 28, 'nuinfty': 1, 'stabilized': 19, 'solitonic': 13, 'invacuum': 2, '1': 35, '2': 31, 'pbranes': 14, 'momentumspace': 1, '3': 16, 'size': 53, '4': 13, 'applies': 2, '5': 12, 'left': 1, '6': 5, 'kallenlehmann': 1, '7': 1, 'generalizing': 5, 'squared': 4, 'extracts': 1, 'eleven': 2, 'densities': 12, 'object': 11, 'largescale': 3, 'accessible': 1, 'statistical': 11, 'role': 33, 'infinite': 37, '1000': 1, 'notable': 1, 'turn': 9, 'walds': 1, 'example': 32, 'paradigmatic': 1, 'result': 62, 'zannias': 1, 'ttoinfty': 1, 'luminosity': 2, '1997ff': 1, 'imbedded': 1, 'connect': 2, 'modulus': 9, 'hand': 13, 'combinatorics': 1, 'ordered': 1, 'b': 8, 'c': 14, 'address': 13, 'collisions': 2, 'sinhgordon': 1, 'e': 5, 'tabletop': 3, 'g': 3, 'h': 13, '3position': 1, 'truncated': 3, 'k': 12, 'pointlike': 2, 'l': 26, 'obeying': 2, 'violating': 3, 'linewidth': 1, 'n': 30, 'cft': 49, 'p': 4, 'straight': 2, 'q': 3, ...}</td>\n",
       "    </tr>\n",
       "    <tr>\n",
       "      <th>231928234090</th>\n",
       "      <td>506</td>\n",
       "      <td>{'cancel': 11, 'half': 4, 'interacting': 32, 'intrinsically': 1, 'grouptheoretic': 1, 'spontaneous': 8, 'einsteins': 1, 'borchers': 2, 'equations': 77, 'noncoincident': 1, 'singletrace': 7, 'osp12n': 1, 'would': 5, 'renormalizing': 6, 'truncates': 1, 'combinatorial': 1, 'ten': 1, 'energy': 76, 'wiesbrock': 1, 'successfully': 2, 'solid': 1, 'factorized': 1, 'notably': 1, 'uncountably': 1, 'coincide': 6, 'require': 6, 'circular': 12, 'hartlehawking': 1, 'd5brane': 2, 'nonfrozen': 1, '0': 11, 'solitonic': 1, '1': 16, '2': 31, '3': 15, 'size': 8, '4': 33, 'applies': 5, 'triple': 2, '5': 3, 'left': 2, '6': 5, '7': 2, '8': 6, '9': 1, 'squared': 2, 'generalizing': 1, 'eleven': 1, 'densities': 3, 'object': 1, 'accessible': 2, 'statistical': 4, 'role': 16, 'infinite': 33, 'weil': 1, 'cek': 1, '1000': 1, 'turn': 9, 'psu224': 2, 'supercurrents': 1, 'example': 24, 'paradigmatic': 1, 'result': 55, 'translationinvariant': 1, 'spanning': 2, '3point': 13, '11dimensional': 1, 'rational': 9, 'modulus': 1, 'connect': 1, 'hand': 7, 'combinatorics': 4, 'b': 7, 'c': 42, 'address': 3, 'collisions': 3, 'e': 3, 'f': 3, 'g': 11, 'auvair0': 1, 'h': 8, 'j': 5, 'k': 12, 'l': 8, 'pointlike': 3, 'lowlying': 1, 'obeying': 3, 'violating': 1, 'n': 88, 'cft': 26, 'straight': 3, 'p': 2, 'entering': 1, 'q': 3, 'r': 30, 'u': 1, 'v': 1, 'x': 31, 'selfconsistency': 2, 'obvious': 2, ...}</td>\n",
       "    </tr>\n",
       "    <tr>\n",
       "      <th>1082331758644</th>\n",
       "      <td>464</td>\n",
       "      <td>{'cancel': 1, 'gravitationdilaton': 2, 'half': 3, 'interacting': 11, 'matterinduced': 1, 'spontaneous': 7, 'einsteins': 1, 'equations': 94, 'radiationtemperature': 1, 'diverges': 2, 'would': 19, 'informons': 2, 'belinfante': 1, 'sake': 1, 'gwzw': 1, '2forms': 1, 'quasilightcone': 1, 'zerobrane': 1, 'energy': 104, 'successfully': 1, 'meanwhile': 1, 'tex': 1, 'notably': 1, 'squares': 1, 'coincide': 3, 'require': 3, 'hartlehawking': 1, '0': 27, 'solitonic': 1, '1': 31, '2': 11, 'pbranes': 1, '3': 8, 'size': 10, '4': 6, 'applies': 3, '5': 2, 'left': 5, '6': 1, '7': 1, 'generalizing': 4, 'densities': 1, 'object': 1, 'accessible': 1, 'multiscalar': 1, 'statistical': 8, 'zwiebach': 1, 'role': 14, 'infinite': 30, 'notable': 1, 'walds': 1, 'turn': 2, 'example': 19, 'result': 23, 'srednicki': 2, 'procedures': 1, 'evaporate': 6, '11dimensional': 13, 'spherisymmetric': 1, 'connect': 1, 'modulus': 1, 'hand': 4, 'ordered': 1, 'b': 10, 'address': 4, 'c': 6, 'collisions': 1, 'e': 7, 'f': 6, 'g': 7, 'h': 2, 'k': 5, 'l': 5, 'pointlike': 2, 'violating': 2, 'n': 38, 'p': 2, 'q': 3, 'consisting': 2, 'r': 12, 'v': 7, 'w': 1, 'x': 2, 'obvious': 1, 'information': 90, 'infinity': 20, 'z': 1, 'plasma': 1, 'saov': 1, 'november': 2, 'inaccessible': 1, 'resolve': 2, 'kirillovkostant': 3, 'propto': 4, 'empty': 1, 'reproduce': 2, 'symmetrization': 1, 'besides': 5, 'serious': 3, 'implement': 2, ...}</td>\n",
       "    </tr>\n",
       "    <tr>\n",
       "      <th>463856468031</th>\n",
       "      <td>347</td>\n",
       "      <td>{'cancel': 1, 'introduces': 1, 'functions': 27, 'p1form': 1, 'interacting': 11, 'analyse': 5, 'nonsymmetric': 2, 'nform': 2, 'spontaneous': 8, 'explanation': 1, 'theta': 1, 'partial2': 2, 'without': 17, 'partial3': 1, 'partial4': 1, 'equations': 43, 'introduced': 12, 'contributions': 6, 'would': 5, 'ngeq': 1, 'ghostofghost': 1, 'legs': 1, 'brstinvariant': 3, 'calculate': 2, 'belinfante': 1, 'energy': 12, 'integrands': 2, 'thus': 10, 'meanwhile': 1, 'squares': 1, 'possess': 1, 'neutral': 5, 'coincide': 5, 'require': 3, 'analysis': 32, 'algebraically': 2, 'h2deltad': 1, 'apparent': 2, '0': 7, '1': 15, '2': 8, 'trphi2': 1, '3': 8, 'constraining': 1, 'applies': 3, '4': 14, 'correlation': 2, '5': 4, 'compactly': 1, 'generalizing': 1, 'recognizes': 1, 'applicability': 1, 'densities': 2, 'much': 3, 'object': 3, 'arrives': 2, 'statistical': 1, 'role': 16, 'independent': 25, 'infinite': 9, 'perturbation': 25, 'turn': 2, 'sp2symmetric': 1, 'gmu': 5, 'example': 21, 'result': 20, 'noninvariantizable': 1, 'ces': 1, 'currents': 21, 'procedures': 2, '11dimensional': 1, 'rational': 2, 'hand': 6, 'resume': 1, 'b': 19, 'c': 2, 'superweyl': 1, 'e': 2, 'kernel': 1, 'f': 9, 'g': 18, 'namely': 4, 'h': 13, 'j': 2, 'k': 3, 'l': 1, 'pointlike': 3, 'obeying': 2, 'n': 12, 'revisionist': 1, 'p': 3, 'q': 3, 'consisting': 2, 'r': 5, 'component': 4, 'readers': 1, 'v': 2, 'w': 1, 'x': 2, 'days': 1, ...}</td>\n",
       "    </tr>\n",
       "    <tr>\n",
       "      <th>747324309543</th>\n",
       "      <td>272</td>\n",
       "      <td>{'cancel': 1, 'nicely': 1, 'half': 18, 'functions': 49, 'interacting': 12, 'analyse': 4, 'ku2': 1, 'spontaneous': 1, 'explanation': 3, 'halo': 6, 'without': 3, 'theorists': 1, 'equations': 19, 'introduced': 2, 'contributions': 5, 'singletrace': 1, 'protected': 5, 'would': 1, 'cones': 1, 'truncates': 1, 'combinatorial': 2, 'calculate': 19, 'ten': 5, 'energy': 62, 'successfully': 2, 'brinkman': 1, 'thus': 10, 'frames': 1, 'bmnoperators': 1, 'f1d1waves': 1, 'possess': 2, 'squares': 1, 'coincide': 5, 'circular': 7, 'geodesically': 1, 'moose': 1, 'analysis': 17, 'unoriented': 2, 'd5brane': 8, 'apparent': 1, '0': 3, 'stabilized': 1, 'solitonic': 1, '1': 7, '2': 7, 'pbranes': 1, 'constraining': 1, '3': 4, '4': 16, 'size': 2, 'correlation': 14, 'triple': 2, '5': 5, 'left': 1, '6': 4, 'superstrings': 7, '8': 7, 'generalizing': 1, 'eleven': 7, 'bubbles': 1, 'much': 1, 'j4n2': 1, 'tadpole': 3, 'role': 6, 'independent': 3, 'stringtheory': 1, 'infinite': 15, 'perturbation': 19, 'turn': 3, 'example': 10, 'result': 23, 'currents': 6, 'recompute': 1, 'antisymetric': 1, 'so42timesso6': 1, 'spanning': 1, 'orientifold': 4, 'equator': 1, '3point': 5, '11dimensional': 3, 'boosted': 4, 'hand': 5, 'resolved': 3, 'b': 4, 'sharpen': 1, 'c': 1, 'address': 5, 'sets': 1, 'e': 3, 'stiefel': 1, 'g': 2, 'namely': 1, 'semiclassical': 14, 'twoimpurity': 5, 'hppwave': 4, 'j': 13, 'k': 3, 'pointlike': 2, 'lowlying': 2, 'congruence': 1, ...}</td>\n",
       "    </tr>\n",
       "    <tr>\n",
       "      <th>807453851694</th>\n",
       "      <td>254</td>\n",
       "      <td>{'cancel': 1, 'half': 1, 'functions': 34, 'govern': 1, 'interacting': 4, 'spontaneous': 3, 'slower': 1, 'theta': 1, 'without': 6, 'theorists': 1, 'equations': 41, 'deviations': 1, 'introduced': 10, 'contributions': 15, 'partial0': 1, 'would': 1, 'combinatorial': 1, 'calculate': 19, 'energy': 60, 'gle': 1, 'wmlprescribed': 1, 'thus': 10, 'fixedpoint': 1, 'possess': 2, 'coincide': 5, 'neutral': 5, 'require': 1, 'analysis': 8, 'henonheiles': 1, 'rewrite': 3, '0': 8, 'solitonic': 1, '1': 8, '2': 11, '3': 5, '4': 5, 'correlation': 9, 'size': 2, 'moore': 1, 'triple': 3, '5': 1, 'left': 1, '6': 2, 'hodge': 1, '8': 1, 'generalizing': 7, 'densities': 1, 'frachataetac': 1, 'much': 3, 'wind': 1, 'accessible': 2, 'statistical': 4, 'role': 7, '31dimensional': 2, 'independent': 5, 'infinite': 17, 'perturbation': 5, 'turn': 3, 'example': 8, 'fracgamma4phi4': 1, 'result': 37, 'characters': 2, 'currents': 1, 'procedures': 1, 'ttoinfty': 1, 'iurs': 2, 'rational': 3, 'modulus': 1, 'connect': 1, 'resolved': 2, 'hand': 1, 'b': 4, 'c': 2, 'address': 1, 'collisions': 1, 'sets': 2, 'f': 1, 'kernel': 8, 'g': 6, 'semiclassical': 6, 'truncated': 1, '1lambdaqcd': 1, 'k': 4, 'pointlike': 6, 'l': 3, 'congruence': 1, 'n': 111, 'cft': 2, 'p': 4, 'crosscaps': 2, 'q': 5, 'baxters': 1, 'r': 5, 'component': 1, 'v': 1, 'obvious': 1, 'illustration': 2, 'infinity': 2, 'z': 2, 'combined': 1, ...}</td>\n",
       "    </tr>\n",
       "    <tr>\n",
       "      <th>695784702044</th>\n",
       "      <td>224</td>\n",
       "      <td>{'cancel': 3, 'half': 2, 'functions': 63, 'interacting': 2, 'analyse': 2, 'anchored': 1, 'abrupt': 1, 'intrinsically': 1, 'undergoing': 1, 'recognized': 1, 'explanation': 3, 'spontaneous': 2, 'conjugation': 1, 'theta': 1, 'without': 9, 'begins': 1, 'equations': 10, 'deviations': 3, 'introduced': 4, 'contributions': 25, '0123': 1, 'would': 1, 'cones': 1, 'calculate': 24, 'energy': 252, 'solid': 8, 'thus': 6, 'collinear': 1, 'squares': 1, 'possess': 1, 'neutral': 1, 'coincide': 1, 'require': 2, 'circular': 8, 'carriers': 1, 'analysis': 19, 'zeros': 4, 'apparent': 1, '0': 9, '1': 4, '2': 5, '3': 4, 'size': 8, '4': 5, 'applies': 1, '5': 3, 'left': 1, '6': 2, '8': 2, 'recognizes': 1, 'applicability': 3, 'cesarofedorov': 1, 'bubbles': 5, 'densities': 5, 'much': 2, 'tadpole': 1, 'role': 7, 'oalpha2': 1, 'independent': 7, 'infinite': 24, 'perturbation': 4, 'turn': 1, 'plausible': 2, 'example': 9, 'result': 31, 'zerozero': 2, 'corners': 2, 'procedures': 2, 'modulus': 1, 'rational': 1, 'hand': 3, 'b': 2, 'c': 2, 'sets': 1, 'f': 3, 'kernel': 29, 'g': 1, 'namely': 1, 'semiclassical': 2, 'resummed': 1, 'pointlike': 6, 'l': 8, 'obeying': 7, 'n': 11, 'p': 2, 'worldline': 1, 'subtle': 1, 'q': 1, 'entering': 1, 'component': 3, 'r': 3, 'nonmagnetic': 1, 'w': 2, 'exciting': 2, 'x': 2, 'obvious': 2, 'fifth': 1, 'illustration': 1, 'information': 1, 'z': 3, ...}</td>\n",
       "    </tr>\n",
       "    <tr>\n",
       "      <th>1005022347273</th>\n",
       "      <td>216</td>\n",
       "      <td>{'nonunique': 1, 'g21d43affine': 1, 'prepare': 1, 'introduces': 1, 'functions': 47, 'govern': 1, 'interacting': 7, 'analyse': 1, 'azamolodchikov': 1, 'hall': 1, 'gko': 1, 'exclusions': 1, 'spontaneous': 1, 'theta': 1, 'without': 5, 'equations': 77, 'introduced': 8, 'contributions': 2, 'factorizes': 1, 'multiparticle': 3, 'nsoliton': 3, 'poincarecovariant': 2, 'calculate': 8, 'energy': 28, 'solitonsoliton': 1, 'parafermionions': 1, 'thus': 5, 'factorized': 6, 'submodel': 1, 'possess': 5, 'neutral': 5, 'require': 1, 'baker': 1, 'analysis': 17, 'algebraically': 1, '0': 12, 'solitonic': 1, '8pi': 1, '1': 8, '2': 5, '3': 6, 'applies': 2, 'correlation': 33, '6': 1, 'generalizing': 2, 'densities': 9, 'much': 1, 'object': 1, 'statistical': 4, 'zamolodchikov': 1, 'su2toda': 1, 'role': 3, 'independent': 10, 'infinite': 12, 'perturbation': 12, 'haldanewu': 1, 'turn': 3, 'trunctated': 1, 'example': 11, 'result': 8, 'currents': 13, 'breitwigner': 2, 'characters': 4, 'su32homogeneous': 3, 'multiplication': 1, '11dimensional': 2, 'staircase': 4, 'rational': 9, 'modulus': 1, 'hand': 4, 'b': 4, 'address': 5, 'c': 1, 'sinhgordon': 23, 'algebrasggg': 1, 'f': 1, 'g': 10, 'namely': 1, 'semiclassical': 9, 'h': 4, 'gno': 2, 'truncated': 1, 'j': 1, 'k': 4, 'u1otimes': 3, 'l': 3, 'obeying': 2, 'n': 11, 'cft': 3, 'component': 1, 'x': 3, 'obvious': 1, 'fifth': 1, 'vorticityraising': 1, 'illustration': 1, 'infinity': 1, 'governs': 1, 'information': 1, 'novel': 4, 'discuss': 15, ...}</td>\n",
       "    </tr>\n",
       "    <tr>\n",
       "      <th>927712936010</th>\n",
       "      <td>213</td>\n",
       "      <td>{'cancel': 1, 'nicely': 1, 'half': 1, 'functions': 37, 'interacting': 5, 'analyse': 3, 'hall': 61, 'gko': 1, 'ksr': 1, 'spontaneous': 3, 'explanation': 1, 'conjugation': 2, 'theta': 2, 'theorists': 1, 'without': 3, 'slnsymmetries': 1, 'equations': 13, 'introduced': 5, 'would': 1, 'ngeq': 1, 'naculich': 1, 'calculate': 4, 'persistent': 1, 'ten': 1, 'gwzw': 1, 'kth': 1, 'energy': 10, 'widehatu1': 1, 'successfully': 1, 'thus': 7, 'devices': 1, 'notably': 1, 'possess': 3, 'gln': 8, 'neutral': 7, 'coincide': 1, 'circular': 3, 'require': 1, 'analysis': 8, 'devise': 1, 'rewrite': 1, '0': 3, '1': 28, '2': 16, '3': 3, '4': 3, 'correlation': 4, 'size': 1, '5': 2, '6': 1, '7': 1, '8': 1, 'generalizing': 7, 'densities': 2, 'winf': 19, 'much': 2, 'chsubsetch': 1, 'statistical': 3, 'role': 8, 'independent': 5, 'schwingerlike': 1, 'infinite': 19, 'perturbation': 5, 'turn': 1, 'supercurrents': 4, 'plausible': 1, 'example': 11, 'result': 8, 'hydrodynamical': 1, 'currents': 26, 'characters': 9, 'plateaux': 1, 'intuitively': 1, 'watts': 2, 'factored': 1, 'plateaus': 5, 'spanning': 1, 'lowerdimensional': 1, 'equator': 1, '11dimensional': 6, 'rational': 27, 'ordered': 1, 'c': 20, 'address': 1, 'sets': 2, 'e': 1, 'kernel': 1, 'g': 8, 'namely': 5, 'enslappa47894': 1, 'semiclassical': 3, 'h': 5, 'wsl4sl3u1': 1, 'edgecurrent': 1, 'j': 2, 'k': 3, 'l': 2, 'lowlying': 3, 'congruence': 2, 'neighbor': 1, ...}</td>\n",
       "    </tr>\n",
       "  </tbody>\n",
       "</table>\n",
       "</div>"
      ],
      "text/plain": [
       "               count  \\\n",
       "label                  \n",
       "17179869325    14930   \n",
       "1065151889414  818     \n",
       "231928234090   506     \n",
       "1082331758644  464     \n",
       "463856468031   347     \n",
       "747324309543   272     \n",
       "807453851694   254     \n",
       "695784702044   224     \n",
       "1005022347273  216     \n",
       "927712936010   213     \n",
       "\n",
       "                                                                                                                                                                                                                                                                                                                                                                                                                                                                                                                                                                                                                                                                                                                                                                                                                                                                                                                                                                                                                                                                                                                                                                                                                                                                                                                                                                                                                                                                                                                                            word_count  \n",
       "label                                                                                                                                                                                                                                                                                                                                                                                                                                                                                                                                                                                                                                                                                                                                                                                                                                                                                                                                                                                                                                                                                                                                                                                                                                                                                                                                                                                                                                                                                                                                                   \n",
       "17179869325    {'unavailable': 3, 'marquard': 2, 'abrupt': 1, 'allscale': 1, 'kinfty': 2, 'superworldvolume': 2, '362d': 2, 'cubically': 1, '0alpha1': 1, 'instantonmeron': 1, 'truncates': 1, 'quartets': 1, 'o5sp4': 1, 'spreading': 7, 'winftygravity': 3, 'superanalysis': 1, 'carriers': 2, 'phenomenologically': 45, 'calderbank': 3, '0': 386, '1': 622, 'noncomutative': 1, '2': 582, '3': 309, '4': 409, '5': 137, '6': 142, 'kallenlehmann': 1, '7': 66, '8': 136, 'complexifiedcotangent': 1, '9': 36, 'discretisations': 2, '1000': 2, 'equivariantly': 2, 'result': 1101, 'spaceorientable': 1, 'reprodued': 1, 'evaporate': 6, 'flip': 14, 'imbedded': 5, 'staircase': 1, 'resume': 2, 'b': 324, 'c': 211, 'garland': 2, 'collisions': 17, 'sinhgordon': 7, 'e': 103, 'f': 220, 'g': 508, 'h': 213, '1011': 3, 'truncated': 58, '1010': 4, 'j': 71, 'k': 341, 'so3xso3': 2, 'l': 111, 'eating': 2, 'n': 1685, 'reconfirmed': 1, 'p': 292, 'q': 207, 'r': 330, 'u': 88, 'cbundles': 2, 'v': 96, 'qpsi0': 1, 'w': 125, 'x': 1010, 'hyperkahler': 154, 'information': 238, 'z': 148, 'goldstone': 91, 'dp1index': 1, '1020': 3, 'reproduce': 180, '1019': 2, 'u4r9': 1, 'nonregular': 3, '1018': 2, '1017': 3, '1016': 13, '1015': 2, 'wyllard': 1, '1014': 5, 'suffered': 1, '1012': 5, 'besides': 67, 'irrelevancy': 1, '3692': 1, 'nfgeq': 3, 'eguchihansongibbons': 1, '1033': 3, '1032': 1, 'violationconservation': 1, '1030': 1, 'criterions': 1, 'wigner': 34, ...}                                                                  \n",
       "1065151889414  {'cancel': 9, 'half': 1, 'dimopoulos': 2, 'interacting': 10, 'einsteins': 35, 'spontaneous': 15, 'equations': 237, 'imperfect': 2, 'diverges': 3, 'would': 34, 'electronically': 1, 'combinatorial': 2, 'ten': 3, '2forms': 1, 'energy': 228, 'conceal': 1, 'destabilizes': 1, 'successfully': 1, 'solid': 6, 'matterquantum': 1, 'tev': 25, 'meanwhile': 1, 'vbulk': 1, 'righthanded': 1, 'factorized': 1, 'reenter': 2, 'coincide': 4, 'require': 8, 'onbrane': 6, 'd5brane': 3, 'hartlehawking': 1, 'phenomenologically': 3, '0': 28, 'nuinfty': 1, 'stabilized': 19, 'solitonic': 13, 'invacuum': 2, '1': 35, '2': 31, 'pbranes': 14, 'momentumspace': 1, '3': 16, 'size': 53, '4': 13, 'applies': 2, '5': 12, 'left': 1, '6': 5, 'kallenlehmann': 1, '7': 1, 'generalizing': 5, 'squared': 4, 'extracts': 1, 'eleven': 2, 'densities': 12, 'object': 11, 'largescale': 3, 'accessible': 1, 'statistical': 11, 'role': 33, 'infinite': 37, '1000': 1, 'notable': 1, 'turn': 9, 'walds': 1, 'example': 32, 'paradigmatic': 1, 'result': 62, 'zannias': 1, 'ttoinfty': 1, 'luminosity': 2, '1997ff': 1, 'imbedded': 1, 'connect': 2, 'modulus': 9, 'hand': 13, 'combinatorics': 1, 'ordered': 1, 'b': 8, 'c': 14, 'address': 13, 'collisions': 2, 'sinhgordon': 1, 'e': 5, 'tabletop': 3, 'g': 3, 'h': 13, '3position': 1, 'truncated': 3, 'k': 12, 'pointlike': 2, 'l': 26, 'obeying': 2, 'violating': 3, 'linewidth': 1, 'n': 30, 'cft': 49, 'p': 4, 'straight': 2, 'q': 3, ...}                                                     \n",
       "231928234090   {'cancel': 11, 'half': 4, 'interacting': 32, 'intrinsically': 1, 'grouptheoretic': 1, 'spontaneous': 8, 'einsteins': 1, 'borchers': 2, 'equations': 77, 'noncoincident': 1, 'singletrace': 7, 'osp12n': 1, 'would': 5, 'renormalizing': 6, 'truncates': 1, 'combinatorial': 1, 'ten': 1, 'energy': 76, 'wiesbrock': 1, 'successfully': 2, 'solid': 1, 'factorized': 1, 'notably': 1, 'uncountably': 1, 'coincide': 6, 'require': 6, 'circular': 12, 'hartlehawking': 1, 'd5brane': 2, 'nonfrozen': 1, '0': 11, 'solitonic': 1, '1': 16, '2': 31, '3': 15, 'size': 8, '4': 33, 'applies': 5, 'triple': 2, '5': 3, 'left': 2, '6': 5, '7': 2, '8': 6, '9': 1, 'squared': 2, 'generalizing': 1, 'eleven': 1, 'densities': 3, 'object': 1, 'accessible': 2, 'statistical': 4, 'role': 16, 'infinite': 33, 'weil': 1, 'cek': 1, '1000': 1, 'turn': 9, 'psu224': 2, 'supercurrents': 1, 'example': 24, 'paradigmatic': 1, 'result': 55, 'translationinvariant': 1, 'spanning': 2, '3point': 13, '11dimensional': 1, 'rational': 9, 'modulus': 1, 'connect': 1, 'hand': 7, 'combinatorics': 4, 'b': 7, 'c': 42, 'address': 3, 'collisions': 3, 'e': 3, 'f': 3, 'g': 11, 'auvair0': 1, 'h': 8, 'j': 5, 'k': 12, 'l': 8, 'pointlike': 3, 'lowlying': 1, 'obeying': 3, 'violating': 1, 'n': 88, 'cft': 26, 'straight': 3, 'p': 2, 'entering': 1, 'q': 3, 'r': 30, 'u': 1, 'v': 1, 'x': 31, 'selfconsistency': 2, 'obvious': 2, ...}                                                                                                                \n",
       "1082331758644  {'cancel': 1, 'gravitationdilaton': 2, 'half': 3, 'interacting': 11, 'matterinduced': 1, 'spontaneous': 7, 'einsteins': 1, 'equations': 94, 'radiationtemperature': 1, 'diverges': 2, 'would': 19, 'informons': 2, 'belinfante': 1, 'sake': 1, 'gwzw': 1, '2forms': 1, 'quasilightcone': 1, 'zerobrane': 1, 'energy': 104, 'successfully': 1, 'meanwhile': 1, 'tex': 1, 'notably': 1, 'squares': 1, 'coincide': 3, 'require': 3, 'hartlehawking': 1, '0': 27, 'solitonic': 1, '1': 31, '2': 11, 'pbranes': 1, '3': 8, 'size': 10, '4': 6, 'applies': 3, '5': 2, 'left': 5, '6': 1, '7': 1, 'generalizing': 4, 'densities': 1, 'object': 1, 'accessible': 1, 'multiscalar': 1, 'statistical': 8, 'zwiebach': 1, 'role': 14, 'infinite': 30, 'notable': 1, 'walds': 1, 'turn': 2, 'example': 19, 'result': 23, 'srednicki': 2, 'procedures': 1, 'evaporate': 6, '11dimensional': 13, 'spherisymmetric': 1, 'connect': 1, 'modulus': 1, 'hand': 4, 'ordered': 1, 'b': 10, 'address': 4, 'c': 6, 'collisions': 1, 'e': 7, 'f': 6, 'g': 7, 'h': 2, 'k': 5, 'l': 5, 'pointlike': 2, 'violating': 2, 'n': 38, 'p': 2, 'q': 3, 'consisting': 2, 'r': 12, 'v': 7, 'w': 1, 'x': 2, 'obvious': 1, 'information': 90, 'infinity': 20, 'z': 1, 'plasma': 1, 'saov': 1, 'november': 2, 'inaccessible': 1, 'resolve': 2, 'kirillovkostant': 3, 'propto': 4, 'empty': 1, 'reproduce': 2, 'symmetrization': 1, 'besides': 5, 'serious': 3, 'implement': 2, ...}                                                                                           \n",
       "463856468031   {'cancel': 1, 'introduces': 1, 'functions': 27, 'p1form': 1, 'interacting': 11, 'analyse': 5, 'nonsymmetric': 2, 'nform': 2, 'spontaneous': 8, 'explanation': 1, 'theta': 1, 'partial2': 2, 'without': 17, 'partial3': 1, 'partial4': 1, 'equations': 43, 'introduced': 12, 'contributions': 6, 'would': 5, 'ngeq': 1, 'ghostofghost': 1, 'legs': 1, 'brstinvariant': 3, 'calculate': 2, 'belinfante': 1, 'energy': 12, 'integrands': 2, 'thus': 10, 'meanwhile': 1, 'squares': 1, 'possess': 1, 'neutral': 5, 'coincide': 5, 'require': 3, 'analysis': 32, 'algebraically': 2, 'h2deltad': 1, 'apparent': 2, '0': 7, '1': 15, '2': 8, 'trphi2': 1, '3': 8, 'constraining': 1, 'applies': 3, '4': 14, 'correlation': 2, '5': 4, 'compactly': 1, 'generalizing': 1, 'recognizes': 1, 'applicability': 1, 'densities': 2, 'much': 3, 'object': 3, 'arrives': 2, 'statistical': 1, 'role': 16, 'independent': 25, 'infinite': 9, 'perturbation': 25, 'turn': 2, 'sp2symmetric': 1, 'gmu': 5, 'example': 21, 'result': 20, 'noninvariantizable': 1, 'ces': 1, 'currents': 21, 'procedures': 2, '11dimensional': 1, 'rational': 2, 'hand': 6, 'resume': 1, 'b': 19, 'c': 2, 'superweyl': 1, 'e': 2, 'kernel': 1, 'f': 9, 'g': 18, 'namely': 4, 'h': 13, 'j': 2, 'k': 3, 'l': 1, 'pointlike': 3, 'obeying': 2, 'n': 12, 'revisionist': 1, 'p': 3, 'q': 3, 'consisting': 2, 'r': 5, 'component': 4, 'readers': 1, 'v': 2, 'w': 1, 'x': 2, 'days': 1, ...}                                                                                       \n",
       "747324309543   {'cancel': 1, 'nicely': 1, 'half': 18, 'functions': 49, 'interacting': 12, 'analyse': 4, 'ku2': 1, 'spontaneous': 1, 'explanation': 3, 'halo': 6, 'without': 3, 'theorists': 1, 'equations': 19, 'introduced': 2, 'contributions': 5, 'singletrace': 1, 'protected': 5, 'would': 1, 'cones': 1, 'truncates': 1, 'combinatorial': 2, 'calculate': 19, 'ten': 5, 'energy': 62, 'successfully': 2, 'brinkman': 1, 'thus': 10, 'frames': 1, 'bmnoperators': 1, 'f1d1waves': 1, 'possess': 2, 'squares': 1, 'coincide': 5, 'circular': 7, 'geodesically': 1, 'moose': 1, 'analysis': 17, 'unoriented': 2, 'd5brane': 8, 'apparent': 1, '0': 3, 'stabilized': 1, 'solitonic': 1, '1': 7, '2': 7, 'pbranes': 1, 'constraining': 1, '3': 4, '4': 16, 'size': 2, 'correlation': 14, 'triple': 2, '5': 5, 'left': 1, '6': 4, 'superstrings': 7, '8': 7, 'generalizing': 1, 'eleven': 7, 'bubbles': 1, 'much': 1, 'j4n2': 1, 'tadpole': 3, 'role': 6, 'independent': 3, 'stringtheory': 1, 'infinite': 15, 'perturbation': 19, 'turn': 3, 'example': 10, 'result': 23, 'currents': 6, 'recompute': 1, 'antisymetric': 1, 'so42timesso6': 1, 'spanning': 1, 'orientifold': 4, 'equator': 1, '3point': 5, '11dimensional': 3, 'boosted': 4, 'hand': 5, 'resolved': 3, 'b': 4, 'sharpen': 1, 'c': 1, 'address': 5, 'sets': 1, 'e': 3, 'stiefel': 1, 'g': 2, 'namely': 1, 'semiclassical': 14, 'twoimpurity': 5, 'hppwave': 4, 'j': 13, 'k': 3, 'pointlike': 2, 'lowlying': 2, 'congruence': 1, ...}                                                    \n",
       "807453851694   {'cancel': 1, 'half': 1, 'functions': 34, 'govern': 1, 'interacting': 4, 'spontaneous': 3, 'slower': 1, 'theta': 1, 'without': 6, 'theorists': 1, 'equations': 41, 'deviations': 1, 'introduced': 10, 'contributions': 15, 'partial0': 1, 'would': 1, 'combinatorial': 1, 'calculate': 19, 'energy': 60, 'gle': 1, 'wmlprescribed': 1, 'thus': 10, 'fixedpoint': 1, 'possess': 2, 'coincide': 5, 'neutral': 5, 'require': 1, 'analysis': 8, 'henonheiles': 1, 'rewrite': 3, '0': 8, 'solitonic': 1, '1': 8, '2': 11, '3': 5, '4': 5, 'correlation': 9, 'size': 2, 'moore': 1, 'triple': 3, '5': 1, 'left': 1, '6': 2, 'hodge': 1, '8': 1, 'generalizing': 7, 'densities': 1, 'frachataetac': 1, 'much': 3, 'wind': 1, 'accessible': 2, 'statistical': 4, 'role': 7, '31dimensional': 2, 'independent': 5, 'infinite': 17, 'perturbation': 5, 'turn': 3, 'example': 8, 'fracgamma4phi4': 1, 'result': 37, 'characters': 2, 'currents': 1, 'procedures': 1, 'ttoinfty': 1, 'iurs': 2, 'rational': 3, 'modulus': 1, 'connect': 1, 'resolved': 2, 'hand': 1, 'b': 4, 'c': 2, 'address': 1, 'collisions': 1, 'sets': 2, 'f': 1, 'kernel': 8, 'g': 6, 'semiclassical': 6, 'truncated': 1, '1lambdaqcd': 1, 'k': 4, 'pointlike': 6, 'l': 3, 'congruence': 1, 'n': 111, 'cft': 2, 'p': 4, 'crosscaps': 2, 'q': 5, 'baxters': 1, 'r': 5, 'component': 1, 'v': 1, 'obvious': 1, 'illustration': 2, 'infinity': 2, 'z': 2, 'combined': 1, ...}                                                                                                      \n",
       "695784702044   {'cancel': 3, 'half': 2, 'functions': 63, 'interacting': 2, 'analyse': 2, 'anchored': 1, 'abrupt': 1, 'intrinsically': 1, 'undergoing': 1, 'recognized': 1, 'explanation': 3, 'spontaneous': 2, 'conjugation': 1, 'theta': 1, 'without': 9, 'begins': 1, 'equations': 10, 'deviations': 3, 'introduced': 4, 'contributions': 25, '0123': 1, 'would': 1, 'cones': 1, 'calculate': 24, 'energy': 252, 'solid': 8, 'thus': 6, 'collinear': 1, 'squares': 1, 'possess': 1, 'neutral': 1, 'coincide': 1, 'require': 2, 'circular': 8, 'carriers': 1, 'analysis': 19, 'zeros': 4, 'apparent': 1, '0': 9, '1': 4, '2': 5, '3': 4, 'size': 8, '4': 5, 'applies': 1, '5': 3, 'left': 1, '6': 2, '8': 2, 'recognizes': 1, 'applicability': 3, 'cesarofedorov': 1, 'bubbles': 5, 'densities': 5, 'much': 2, 'tadpole': 1, 'role': 7, 'oalpha2': 1, 'independent': 7, 'infinite': 24, 'perturbation': 4, 'turn': 1, 'plausible': 2, 'example': 9, 'result': 31, 'zerozero': 2, 'corners': 2, 'procedures': 2, 'modulus': 1, 'rational': 1, 'hand': 3, 'b': 2, 'c': 2, 'sets': 1, 'f': 3, 'kernel': 29, 'g': 1, 'namely': 1, 'semiclassical': 2, 'resummed': 1, 'pointlike': 6, 'l': 8, 'obeying': 7, 'n': 11, 'p': 2, 'worldline': 1, 'subtle': 1, 'q': 1, 'entering': 1, 'component': 3, 'r': 3, 'nonmagnetic': 1, 'w': 2, 'exciting': 2, 'x': 2, 'obvious': 2, 'fifth': 1, 'illustration': 1, 'information': 1, 'z': 3, ...}                                                                                                                       \n",
       "1005022347273  {'nonunique': 1, 'g21d43affine': 1, 'prepare': 1, 'introduces': 1, 'functions': 47, 'govern': 1, 'interacting': 7, 'analyse': 1, 'azamolodchikov': 1, 'hall': 1, 'gko': 1, 'exclusions': 1, 'spontaneous': 1, 'theta': 1, 'without': 5, 'equations': 77, 'introduced': 8, 'contributions': 2, 'factorizes': 1, 'multiparticle': 3, 'nsoliton': 3, 'poincarecovariant': 2, 'calculate': 8, 'energy': 28, 'solitonsoliton': 1, 'parafermionions': 1, 'thus': 5, 'factorized': 6, 'submodel': 1, 'possess': 5, 'neutral': 5, 'require': 1, 'baker': 1, 'analysis': 17, 'algebraically': 1, '0': 12, 'solitonic': 1, '8pi': 1, '1': 8, '2': 5, '3': 6, 'applies': 2, 'correlation': 33, '6': 1, 'generalizing': 2, 'densities': 9, 'much': 1, 'object': 1, 'statistical': 4, 'zamolodchikov': 1, 'su2toda': 1, 'role': 3, 'independent': 10, 'infinite': 12, 'perturbation': 12, 'haldanewu': 1, 'turn': 3, 'trunctated': 1, 'example': 11, 'result': 8, 'currents': 13, 'breitwigner': 2, 'characters': 4, 'su32homogeneous': 3, 'multiplication': 1, '11dimensional': 2, 'staircase': 4, 'rational': 9, 'modulus': 1, 'hand': 4, 'b': 4, 'address': 5, 'c': 1, 'sinhgordon': 23, 'algebrasggg': 1, 'f': 1, 'g': 10, 'namely': 1, 'semiclassical': 9, 'h': 4, 'gno': 2, 'truncated': 1, 'j': 1, 'k': 4, 'u1otimes': 3, 'l': 3, 'obeying': 2, 'n': 11, 'cft': 3, 'component': 1, 'x': 3, 'obvious': 1, 'fifth': 1, 'vorticityraising': 1, 'illustration': 1, 'infinity': 1, 'governs': 1, 'information': 1, 'novel': 4, 'discuss': 15, ...}  \n",
       "927712936010   {'cancel': 1, 'nicely': 1, 'half': 1, 'functions': 37, 'interacting': 5, 'analyse': 3, 'hall': 61, 'gko': 1, 'ksr': 1, 'spontaneous': 3, 'explanation': 1, 'conjugation': 2, 'theta': 2, 'theorists': 1, 'without': 3, 'slnsymmetries': 1, 'equations': 13, 'introduced': 5, 'would': 1, 'ngeq': 1, 'naculich': 1, 'calculate': 4, 'persistent': 1, 'ten': 1, 'gwzw': 1, 'kth': 1, 'energy': 10, 'widehatu1': 1, 'successfully': 1, 'thus': 7, 'devices': 1, 'notably': 1, 'possess': 3, 'gln': 8, 'neutral': 7, 'coincide': 1, 'circular': 3, 'require': 1, 'analysis': 8, 'devise': 1, 'rewrite': 1, '0': 3, '1': 28, '2': 16, '3': 3, '4': 3, 'correlation': 4, 'size': 1, '5': 2, '6': 1, '7': 1, '8': 1, 'generalizing': 7, 'densities': 2, 'winf': 19, 'much': 2, 'chsubsetch': 1, 'statistical': 3, 'role': 8, 'independent': 5, 'schwingerlike': 1, 'infinite': 19, 'perturbation': 5, 'turn': 1, 'supercurrents': 4, 'plausible': 1, 'example': 11, 'result': 8, 'hydrodynamical': 1, 'currents': 26, 'characters': 9, 'plateaux': 1, 'intuitively': 1, 'watts': 2, 'factored': 1, 'plateaus': 5, 'spanning': 1, 'lowerdimensional': 1, 'equator': 1, '11dimensional': 6, 'rational': 27, 'ordered': 1, 'c': 20, 'address': 1, 'sets': 2, 'e': 1, 'kernel': 1, 'g': 8, 'namely': 5, 'enslappa47894': 1, 'semiclassical': 3, 'h': 5, 'wsl4sl3u1': 1, 'edgecurrent': 1, 'j': 2, 'k': 3, 'l': 2, 'lowlying': 3, 'congruence': 2, 'neighbor': 1, ...}                                                                               "
      ]
     },
     "execution_count": 102,
     "metadata": {},
     "output_type": "execute_result"
    }
   ],
   "source": [
    "label_df_word_count.nlargest(10, 'count')"
   ]
  },
  {
   "cell_type": "markdown",
   "metadata": {},
   "source": [
    "The results are hard to interpret as the word count is not the best way of extracting key words form a document. A possible amelioration would be to use technics such as the **Term frequency-inverse document frequency** statistics to extract key words from abstract."
   ]
  },
  {
   "cell_type": "markdown",
   "metadata": {},
   "source": [
    "## Visualizing the network\n",
    "\n",
    "To visualize the graph of papers we have to use regular python, this is why this part might not be suited to use on a bigger dataset. We use networkx to diplay a sub graph of our graph of papers. The original graph would have too many nodes to be clearly visible using networkx (softaware such as Gephi are more adapted). We color the three biggest cluster using blue, orange and red, all other nodes are in Yellow."
   ]
  },
  {
   "cell_type": "code",
   "execution_count": 118,
   "metadata": {},
   "outputs": [],
   "source": [
    "import networkx as nx"
   ]
  },
  {
   "cell_type": "code",
   "execution_count": null,
   "metadata": {},
   "outputs": [],
   "source": [
    "nodes_label_pd = df_citations_2.select(['id', 'label']).toPandas()"
   ]
  },
  {
   "cell_type": "code",
   "execution_count": 153,
   "metadata": {},
   "outputs": [],
   "source": [
    "color_mapping = {'17179869325':'blue', '1065151889514':'orange', '231928234090':'red'}"
   ]
  },
  {
   "cell_type": "code",
   "execution_count": 154,
   "metadata": {},
   "outputs": [],
   "source": [
    "def PlotGraph(edge_list):\n",
    "    Gplot=nx.Graph()\n",
    "    for row in edge_list.select('src','dst').take(5000):\n",
    "        Gplot.add_edge(row['src'],row['dst'])\n",
    "    cmap=[]\n",
    "    for node in list(Gplot.nodes):\n",
    "        label = str(nodes_label_pd[nodes_label_pd.id==node]['label'].values[0])\n",
    "        if label in color_mapping.keys():\n",
    "            cmap.append(color_mapping[label])\n",
    "        else:\n",
    "            cmap.append('yellow')\n",
    "\n",
    "    nx.draw(Gplot, node_size=10, width=0.5, node_color=cmap, alpha=0.5)"
   ]
  },
  {
   "cell_type": "code",
   "execution_count": 155,
   "metadata": {},
   "outputs": [
    {
     "data": {
      "image/png": "[encoded data removed]",
      "text/plain": [
       "<Figure size 1080x864 with 1 Axes>"
      ]
     },
     "metadata": {},
     "output_type": "display_data"
    }
   ],
   "source": [
    "plt.figure(figsize=(15,12))\n",
    "PlotGraph(g.edges)"
   ]
  }
 ],
 "metadata": {
  "kernelspec": {
   "display_name": "Python 3",
   "language": "python",
   "name": "python3"
  },
  "language_info": {
   "codemirror_mode": {
    "name": "ipython",
    "version": 3
   },
   "file_extension": ".py",
   "mimetype": "text/x-python",
   "name": "python",
   "nbconvert_exporter": "python",
   "pygments_lexer": "ipython3",
   "version": "3.6.10"
  }
 },
 "nbformat": 4,
 "nbformat_minor": 4
}
